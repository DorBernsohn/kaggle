{
 "cells": [
  {
   "cell_type": "code",
   "execution_count": 1,
   "id": "8a8a91db",
   "metadata": {},
   "outputs": [
    {
     "data": {
      "text/html": [
       "<style>.container { width:100% !important; }</style>"
      ],
      "text/plain": [
       "<IPython.core.display.HTML object>"
      ]
     },
     "metadata": {},
     "output_type": "display_data"
    }
   ],
   "source": [
    "from IPython.core.display import display, HTML\n",
    "display(HTML(\"<style>.container { width:100% !important; }</style>\"))"
   ]
  },
  {
   "cell_type": "markdown",
   "id": "2fc9e02e",
   "metadata": {},
   "source": [
    "#### Imports"
   ]
  },
  {
   "cell_type": "code",
   "execution_count": 5,
   "id": "a8364feb",
   "metadata": {},
   "outputs": [],
   "source": [
    "import os\n",
    "import numpy as np\n",
    "import pandas as pd\n",
    "from tqdm.notebook import tqdm\n",
    "from collections import deque\n",
    "from operator import itemgetter"
   ]
  },
  {
   "cell_type": "code",
   "execution_count": 3,
   "id": "c0184382",
   "metadata": {},
   "outputs": [],
   "source": [
    "np.random.seed(42)"
   ]
  },
  {
   "cell_type": "markdown",
   "id": "798ccba8",
   "metadata": {},
   "source": [
    "#### Load the data"
   ]
  },
  {
   "cell_type": "code",
   "execution_count": 6,
   "id": "a3e74e7b",
   "metadata": {},
   "outputs": [
    {
     "data": {
      "text/html": [
       "<div>\n",
       "<style scoped>\n",
       "    .dataframe tbody tr th:only-of-type {\n",
       "        vertical-align: middle;\n",
       "    }\n",
       "\n",
       "    .dataframe tbody tr th {\n",
       "        vertical-align: top;\n",
       "    }\n",
       "\n",
       "    .dataframe thead th {\n",
       "        text-align: right;\n",
       "    }\n",
       "</style>\n",
       "<table border=\"1\" class=\"dataframe\">\n",
       "  <thead>\n",
       "    <tr style=\"text-align: right;\">\n",
       "      <th></th>\n",
       "      <th>posting_id</th>\n",
       "      <th>image</th>\n",
       "      <th>image_phash</th>\n",
       "      <th>title</th>\n",
       "      <th>label_group</th>\n",
       "      <th>path</th>\n",
       "    </tr>\n",
       "  </thead>\n",
       "  <tbody>\n",
       "    <tr>\n",
       "      <th>0</th>\n",
       "      <td>train_129225211</td>\n",
       "      <td>0000a68812bc7e98c42888dfb1c07da0.jpg</td>\n",
       "      <td>94974f937d4c2433</td>\n",
       "      <td>Paper Bag Victoria Secret</td>\n",
       "      <td>249114794</td>\n",
       "      <td>/home/users/dbernsohn/personal_storage/shopee/...</td>\n",
       "    </tr>\n",
       "    <tr>\n",
       "      <th>1</th>\n",
       "      <td>train_3386243561</td>\n",
       "      <td>00039780dfc94d01db8676fe789ecd05.jpg</td>\n",
       "      <td>af3f9460c2838f0f</td>\n",
       "      <td>Double Tape 3M VHB 12 mm x 4,5 m ORIGINAL / DO...</td>\n",
       "      <td>2937985045</td>\n",
       "      <td>/home/users/dbernsohn/personal_storage/shopee/...</td>\n",
       "    </tr>\n",
       "    <tr>\n",
       "      <th>2</th>\n",
       "      <td>train_2288590299</td>\n",
       "      <td>000a190fdd715a2a36faed16e2c65df7.jpg</td>\n",
       "      <td>b94cb00ed3e50f78</td>\n",
       "      <td>Maling TTS Canned Pork Luncheon Meat 397 gr</td>\n",
       "      <td>2395904891</td>\n",
       "      <td>/home/users/dbernsohn/personal_storage/shopee/...</td>\n",
       "    </tr>\n",
       "    <tr>\n",
       "      <th>3</th>\n",
       "      <td>train_2406599165</td>\n",
       "      <td>00117e4fc239b1b641ff08340b429633.jpg</td>\n",
       "      <td>8514fc58eafea283</td>\n",
       "      <td>Daster Batik Lengan pendek - Motif Acak / Camp...</td>\n",
       "      <td>4093212188</td>\n",
       "      <td>/home/users/dbernsohn/personal_storage/shopee/...</td>\n",
       "    </tr>\n",
       "    <tr>\n",
       "      <th>4</th>\n",
       "      <td>train_3369186413</td>\n",
       "      <td>00136d1cf4edede0203f32f05f660588.jpg</td>\n",
       "      <td>a6f319f924ad708c</td>\n",
       "      <td>Nescafe \\xc3\\x89clair Latte 220ml</td>\n",
       "      <td>3648931069</td>\n",
       "      <td>/home/users/dbernsohn/personal_storage/shopee/...</td>\n",
       "    </tr>\n",
       "  </tbody>\n",
       "</table>\n",
       "</div>"
      ],
      "text/plain": [
       "         posting_id                                 image       image_phash  \\\n",
       "0   train_129225211  0000a68812bc7e98c42888dfb1c07da0.jpg  94974f937d4c2433   \n",
       "1  train_3386243561  00039780dfc94d01db8676fe789ecd05.jpg  af3f9460c2838f0f   \n",
       "2  train_2288590299  000a190fdd715a2a36faed16e2c65df7.jpg  b94cb00ed3e50f78   \n",
       "3  train_2406599165  00117e4fc239b1b641ff08340b429633.jpg  8514fc58eafea283   \n",
       "4  train_3369186413  00136d1cf4edede0203f32f05f660588.jpg  a6f319f924ad708c   \n",
       "\n",
       "                                               title  label_group  \\\n",
       "0                          Paper Bag Victoria Secret    249114794   \n",
       "1  Double Tape 3M VHB 12 mm x 4,5 m ORIGINAL / DO...   2937985045   \n",
       "2        Maling TTS Canned Pork Luncheon Meat 397 gr   2395904891   \n",
       "3  Daster Batik Lengan pendek - Motif Acak / Camp...   4093212188   \n",
       "4                  Nescafe \\xc3\\x89clair Latte 220ml   3648931069   \n",
       "\n",
       "                                                path  \n",
       "0  /home/users/dbernsohn/personal_storage/shopee/...  \n",
       "1  /home/users/dbernsohn/personal_storage/shopee/...  \n",
       "2  /home/users/dbernsohn/personal_storage/shopee/...  \n",
       "3  /home/users/dbernsohn/personal_storage/shopee/...  \n",
       "4  /home/users/dbernsohn/personal_storage/shopee/...  "
      ]
     },
     "execution_count": 6,
     "metadata": {},
     "output_type": "execute_result"
    }
   ],
   "source": [
    "data_dir = '/home/users/dbernsohn/personal_storage/shopee'\n",
    "train_img_dir = data_dir + os.sep + 'train_images'\n",
    "df = pd.read_csv(f'{data_dir}{os.sep}train.csv')\n",
    "df['path'] = train_img_dir + os.sep + df.image\n",
    "df.head()"
   ]
  },
  {
   "cell_type": "markdown",
   "id": "4b09ed41",
   "metadata": {},
   "source": [
    "#### BKtree"
   ]
  },
  {
   "cell_type": "code",
   "execution_count": 7,
   "id": "978a3c96",
   "metadata": {},
   "outputs": [],
   "source": [
    "__all__ = ['hamming_distance', 'BKTree']\n",
    "\n",
    "__version__ = '1.1'\n",
    "\n",
    "_getitem0 = itemgetter(0)\n",
    "\n",
    "### BKTree\n",
    "### source https://github.com/benhoyt/pybktree\n",
    "\n",
    "class BKTree(object):\n",
    "    \"\"\"BK-tree data structure that allows fast querying of matches that are\n",
    "    \"close\" given a function to calculate a distance metric (e.g., Hamming\n",
    "    distance or Levenshtein distance).\n",
    "    Each node in the tree (including the root node) is a two-tuple of\n",
    "    (item, children_dict), where children_dict is a dict whose keys are\n",
    "    non-negative distances of the child to the current item and whose values\n",
    "    are nodes.\n",
    "    \"\"\"\n",
    "    def __init__(self, distance_func, items=[]):\n",
    "        self.distance_func = distance_func\n",
    "        self.tree = None\n",
    "\n",
    "        _add = self.add\n",
    "        for item in items:\n",
    "            _add(item)\n",
    "\n",
    "    def add(self, item):\n",
    "        node = self.tree\n",
    "        if node is None:\n",
    "            self.tree = (item, {})\n",
    "            return\n",
    "\n",
    "        # Slight speed optimization -- avoid lookups inside the loop\n",
    "        _distance_func = self.distance_func\n",
    "\n",
    "        while True:\n",
    "            parent, children = node\n",
    "            distance = _distance_func(item, parent)\n",
    "            node = children.get(distance)\n",
    "            if node is None:\n",
    "                children[distance] = (item, {})\n",
    "                break\n",
    "\n",
    "    def find(self, item, n):\n",
    "        if self.tree is None:\n",
    "            return []\n",
    "\n",
    "        candidates = deque([self.tree])\n",
    "        found = []\n",
    "\n",
    "        # Slight speed optimization -- avoid lookups inside the loop\n",
    "        _candidates_popleft = candidates.popleft\n",
    "        _candidates_extend = candidates.extend\n",
    "        _found_append = found.append\n",
    "        _distance_func = self.distance_func\n",
    "\n",
    "        while candidates:\n",
    "            candidate, children = _candidates_popleft()\n",
    "            distance = _distance_func(candidate, item)\n",
    "            if distance <= n:\n",
    "                _found_append((distance, candidate))\n",
    "\n",
    "            if children:\n",
    "                lower = distance - n\n",
    "                upper = distance + n\n",
    "                _candidates_extend(c for d, c in children.items() if lower <= d <= upper)\n",
    "\n",
    "        found.sort(key=_getitem0)\n",
    "        return found\n",
    "\n",
    "    def __iter__(self):\n",
    "        if self.tree is None:\n",
    "            return\n",
    "\n",
    "        candidates = deque([self.tree])\n",
    "\n",
    "        # Slight speed optimization -- avoid lookups inside the loop\n",
    "        _candidates_popleft = candidates.popleft\n",
    "        _candidates_extend = candidates.extend\n",
    "\n",
    "        while candidates:\n",
    "            candidate, children = _candidates_popleft()\n",
    "            yield candidate\n",
    "            _candidates_extend(children.values())\n",
    "\n",
    "    def __repr__(self):\n",
    "        return '<{} using {} with {} top-level nodes>'.format(\n",
    "            self.__class__.__name__,\n",
    "            self.distance_func.__name__,\n",
    "            len(self.tree[1]) if self.tree is not None else 'no',\n",
    "        )"
   ]
  },
  {
   "cell_type": "code",
   "execution_count": 8,
   "id": "312dadb7",
   "metadata": {},
   "outputs": [
    {
     "data": {
      "application/vnd.jupyter.widget-view+json": {
       "model_id": "2907beb16dbd48fd92a5436e8b5ff58b",
       "version_major": 2,
       "version_minor": 0
      },
      "text/plain": [
       "HBox(children=(HTML(value=''), FloatProgress(value=0.0, max=34250.0), HTML(value='')))"
      ]
     },
     "metadata": {},
     "output_type": "display_data"
    },
    {
     "name": "stdout",
     "output_type": "stream",
     "text": [
      "\n"
     ]
    }
   ],
   "source": [
    "def hex_to_hash(hexstr):\n",
    "    # modified function from imagehash\n",
    "    # https://github.com/JohannesBuchner/imagehash/blob/d7dffec20dcfc7d1afac90ad7d447cd06240087c/imagehash.py\n",
    "    \n",
    "    hash_size = int(np.sqrt(len(hexstr)*4))\n",
    "    #assert hash_size == np.sqrt(len(hexstr)*4)\n",
    "    binary_array = '{:0>{width}b}'.format(int(hexstr, 16), width = hash_size * hash_size)\n",
    "    bit_rows = [binary_array[i:i+hash_size] for i in range(0, len(binary_array), hash_size)]\n",
    "    hash_array = np.array([[bool(int(d)) for d in row] for row in bit_rows])\n",
    "    return hash_array.flatten().astype(int)\n",
    "\n",
    "def simple_hamming(x1, x2, idx =0):\n",
    "    #hamming distance between integer arrays\n",
    "    return np.count_nonzero(x1[idx]!=x2[idx])\n",
    "\n",
    "df['phash_vec'] = df['image_phash'].apply(hex_to_hash)\n",
    "\n",
    "tree_items = list(df[['phash_vec', 'label_group', 'title', 'image', 'posting_id']].values)\n",
    "\n",
    "tree = BKTree(simple_hamming, tree_items)\n",
    "\n",
    "# consider using different threshold\n",
    "hamming_distance = 1\n",
    "\n",
    "suspicious_groups = []\n",
    "\n",
    "# O(nlogn)\n",
    "for i in tqdm(range(len(tree_items))):\n",
    "    \n",
    "    neighbor_list = tree.find(tree_items[i], hamming_distance)\n",
    "    \n",
    "    if len(neighbor_list)>1:\n",
    "        \n",
    "        neighbor_labels = [x[1][1] for x in neighbor_list]\n",
    "    \n",
    "        # if all items in the neighbor_list don't have the same label then we assume\n",
    "        # that some samples have wrong label\n",
    "        \n",
    "        if len(set(neighbor_labels))>1:\n",
    "            suspicious_groups.append(neighbor_list)"
   ]
  },
  {
   "cell_type": "code",
   "execution_count": 9,
   "id": "5c58caad",
   "metadata": {},
   "outputs": [
    {
     "name": "stdout",
     "output_type": "stream",
     "text": [
      "Total number of suspicious samples: 468 or in percent: 1.37%\n",
      "Consider removing them from the training set\n"
     ]
    }
   ],
   "source": [
    "sus_ids = []\n",
    "for group in suspicious_groups:\n",
    "    for item in group:\n",
    "        sus_ids.append(item[1][4])\n",
    "\n",
    "n_sus = len(set(sus_ids))\n",
    "print('Total number of suspicious samples: {} or in percent: {}%'.format(n_sus, round(n_sus/len(df)*100,2)))\n",
    "print('Consider removing them from the training set')"
   ]
  },
  {
   "cell_type": "code",
   "execution_count": 10,
   "id": "9a4f1aab",
   "metadata": {},
   "outputs": [
    {
     "name": "stdout",
     "output_type": "stream",
     "text": [
      "34250\n",
      "33782\n"
     ]
    }
   ],
   "source": [
    "print(df.shape[0])\n",
    "df = df[~df.posting_id.isin(sus_ids)]\n",
    "print(df.shape[0])"
   ]
  },
  {
   "cell_type": "code",
   "execution_count": null,
   "id": "a9fd1c47",
   "metadata": {},
   "outputs": [],
   "source": [
    "df.to_csv('filtered_train.csv')"
   ]
  }
 ],
 "metadata": {
  "kernelspec": {
   "display_name": "Python 3 (ipykernel)",
   "language": "python",
   "name": "python3"
  },
  "language_info": {
   "codemirror_mode": {
    "name": "ipython",
    "version": 3
   },
   "file_extension": ".py",
   "mimetype": "text/x-python",
   "name": "python",
   "nbconvert_exporter": "python",
   "pygments_lexer": "ipython3",
   "version": "3.8.5"
  },
  "toc": {
   "base_numbering": 1,
   "nav_menu": {},
   "number_sections": true,
   "sideBar": true,
   "skip_h1_title": false,
   "title_cell": "Table of Contents",
   "title_sidebar": "Contents",
   "toc_cell": false,
   "toc_position": {},
   "toc_section_display": true,
   "toc_window_display": false
  }
 },
 "nbformat": 4,
 "nbformat_minor": 5
}
