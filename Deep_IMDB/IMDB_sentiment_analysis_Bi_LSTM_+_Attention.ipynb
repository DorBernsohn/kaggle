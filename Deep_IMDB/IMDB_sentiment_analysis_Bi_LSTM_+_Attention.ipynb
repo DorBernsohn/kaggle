{
  "nbformat": 4,
  "nbformat_minor": 0,
  "metadata": {
    "colab": {
      "name": "IMDB sentiment analysis Bi-LSTM + Attention.ipynb",
      "provenance": [],
      "collapsed_sections": [
        "v2WXvr417uTJ",
        "hRy4bdn7OR7P",
        "FCR1sRbZ7jVB",
        "Dz8K8Uty79fP",
        "160jnFr2-xpd"
      ],
      "toc_visible": true,
      "machine_shape": "hm"
    },
    "kernelspec": {
      "name": "python3",
      "display_name": "Python 3"
    },
    "accelerator": "GPU",
    "widgets": {
      "application/vnd.jupyter.widget-state+json": {
        "669a3f4ae11442bf8864a58d7d49d705": {
          "model_module": "@jupyter-widgets/controls",
          "model_name": "HBoxModel",
          "state": {
            "_view_name": "HBoxView",
            "_dom_classes": [],
            "_model_name": "HBoxModel",
            "_view_module": "@jupyter-widgets/controls",
            "_model_module_version": "1.5.0",
            "_view_count": null,
            "_view_module_version": "1.5.0",
            "box_style": "",
            "layout": "IPY_MODEL_569f25f78ab742f0b97b28420a96a48d",
            "_model_module": "@jupyter-widgets/controls",
            "children": [
              "IPY_MODEL_9cbfb22b6bf949afb26efa489c0581ed",
              "IPY_MODEL_da061a82a99e4d47a3a63fde566ee8a9"
            ]
          }
        },
        "569f25f78ab742f0b97b28420a96a48d": {
          "model_module": "@jupyter-widgets/base",
          "model_name": "LayoutModel",
          "state": {
            "_view_name": "LayoutView",
            "grid_template_rows": null,
            "right": null,
            "justify_content": null,
            "_view_module": "@jupyter-widgets/base",
            "overflow": null,
            "_model_module_version": "1.2.0",
            "_view_count": null,
            "flex_flow": null,
            "width": null,
            "min_width": null,
            "border": null,
            "align_items": null,
            "bottom": null,
            "_model_module": "@jupyter-widgets/base",
            "top": null,
            "grid_column": null,
            "overflow_y": null,
            "overflow_x": null,
            "grid_auto_flow": null,
            "grid_area": null,
            "grid_template_columns": null,
            "flex": null,
            "_model_name": "LayoutModel",
            "justify_items": null,
            "grid_row": null,
            "max_height": null,
            "align_content": null,
            "visibility": null,
            "align_self": null,
            "height": null,
            "min_height": null,
            "padding": null,
            "grid_auto_rows": null,
            "grid_gap": null,
            "max_width": null,
            "order": null,
            "_view_module_version": "1.2.0",
            "grid_template_areas": null,
            "object_position": null,
            "object_fit": null,
            "grid_auto_columns": null,
            "margin": null,
            "display": null,
            "left": null
          }
        },
        "9cbfb22b6bf949afb26efa489c0581ed": {
          "model_module": "@jupyter-widgets/controls",
          "model_name": "FloatProgressModel",
          "state": {
            "_view_name": "ProgressView",
            "style": "IPY_MODEL_a559b8c51480452999e94fe04a49c43c",
            "_dom_classes": [],
            "description": "Dl Completed...: 100%",
            "_model_name": "FloatProgressModel",
            "bar_style": "success",
            "max": 1,
            "_view_module": "@jupyter-widgets/controls",
            "_model_module_version": "1.5.0",
            "value": 1,
            "_view_count": null,
            "_view_module_version": "1.5.0",
            "orientation": "horizontal",
            "min": 0,
            "description_tooltip": null,
            "_model_module": "@jupyter-widgets/controls",
            "layout": "IPY_MODEL_ccaab330fbff430faeb4d41d6b22c739"
          }
        },
        "da061a82a99e4d47a3a63fde566ee8a9": {
          "model_module": "@jupyter-widgets/controls",
          "model_name": "HTMLModel",
          "state": {
            "_view_name": "HTMLView",
            "style": "IPY_MODEL_7e1cc493f7974e4684ab0dfc2725c690",
            "_dom_classes": [],
            "description": "",
            "_model_name": "HTMLModel",
            "placeholder": "​",
            "_view_module": "@jupyter-widgets/controls",
            "_model_module_version": "1.5.0",
            "value": " 1/1 [00:01&lt;00:00,  1.45s/ url]",
            "_view_count": null,
            "_view_module_version": "1.5.0",
            "description_tooltip": null,
            "_model_module": "@jupyter-widgets/controls",
            "layout": "IPY_MODEL_899e8fda6c4b4feb912af5533ee5f33f"
          }
        },
        "a559b8c51480452999e94fe04a49c43c": {
          "model_module": "@jupyter-widgets/controls",
          "model_name": "ProgressStyleModel",
          "state": {
            "_view_name": "StyleView",
            "_model_name": "ProgressStyleModel",
            "description_width": "initial",
            "_view_module": "@jupyter-widgets/base",
            "_model_module_version": "1.5.0",
            "_view_count": null,
            "_view_module_version": "1.2.0",
            "bar_color": null,
            "_model_module": "@jupyter-widgets/controls"
          }
        },
        "ccaab330fbff430faeb4d41d6b22c739": {
          "model_module": "@jupyter-widgets/base",
          "model_name": "LayoutModel",
          "state": {
            "_view_name": "LayoutView",
            "grid_template_rows": null,
            "right": null,
            "justify_content": null,
            "_view_module": "@jupyter-widgets/base",
            "overflow": null,
            "_model_module_version": "1.2.0",
            "_view_count": null,
            "flex_flow": null,
            "width": null,
            "min_width": null,
            "border": null,
            "align_items": null,
            "bottom": null,
            "_model_module": "@jupyter-widgets/base",
            "top": null,
            "grid_column": null,
            "overflow_y": null,
            "overflow_x": null,
            "grid_auto_flow": null,
            "grid_area": null,
            "grid_template_columns": null,
            "flex": null,
            "_model_name": "LayoutModel",
            "justify_items": null,
            "grid_row": null,
            "max_height": null,
            "align_content": null,
            "visibility": null,
            "align_self": null,
            "height": null,
            "min_height": null,
            "padding": null,
            "grid_auto_rows": null,
            "grid_gap": null,
            "max_width": null,
            "order": null,
            "_view_module_version": "1.2.0",
            "grid_template_areas": null,
            "object_position": null,
            "object_fit": null,
            "grid_auto_columns": null,
            "margin": null,
            "display": null,
            "left": null
          }
        },
        "7e1cc493f7974e4684ab0dfc2725c690": {
          "model_module": "@jupyter-widgets/controls",
          "model_name": "DescriptionStyleModel",
          "state": {
            "_view_name": "StyleView",
            "_model_name": "DescriptionStyleModel",
            "description_width": "",
            "_view_module": "@jupyter-widgets/base",
            "_model_module_version": "1.5.0",
            "_view_count": null,
            "_view_module_version": "1.2.0",
            "_model_module": "@jupyter-widgets/controls"
          }
        },
        "899e8fda6c4b4feb912af5533ee5f33f": {
          "model_module": "@jupyter-widgets/base",
          "model_name": "LayoutModel",
          "state": {
            "_view_name": "LayoutView",
            "grid_template_rows": null,
            "right": null,
            "justify_content": null,
            "_view_module": "@jupyter-widgets/base",
            "overflow": null,
            "_model_module_version": "1.2.0",
            "_view_count": null,
            "flex_flow": null,
            "width": null,
            "min_width": null,
            "border": null,
            "align_items": null,
            "bottom": null,
            "_model_module": "@jupyter-widgets/base",
            "top": null,
            "grid_column": null,
            "overflow_y": null,
            "overflow_x": null,
            "grid_auto_flow": null,
            "grid_area": null,
            "grid_template_columns": null,
            "flex": null,
            "_model_name": "LayoutModel",
            "justify_items": null,
            "grid_row": null,
            "max_height": null,
            "align_content": null,
            "visibility": null,
            "align_self": null,
            "height": null,
            "min_height": null,
            "padding": null,
            "grid_auto_rows": null,
            "grid_gap": null,
            "max_width": null,
            "order": null,
            "_view_module_version": "1.2.0",
            "grid_template_areas": null,
            "object_position": null,
            "object_fit": null,
            "grid_auto_columns": null,
            "margin": null,
            "display": null,
            "left": null
          }
        },
        "fae856f3e30e4fa99085c33105d602b6": {
          "model_module": "@jupyter-widgets/controls",
          "model_name": "HBoxModel",
          "state": {
            "_view_name": "HBoxView",
            "_dom_classes": [],
            "_model_name": "HBoxModel",
            "_view_module": "@jupyter-widgets/controls",
            "_model_module_version": "1.5.0",
            "_view_count": null,
            "_view_module_version": "1.5.0",
            "box_style": "",
            "layout": "IPY_MODEL_40d010487c8b498e87a9ba9f65fd816c",
            "_model_module": "@jupyter-widgets/controls",
            "children": [
              "IPY_MODEL_e3ead912961d4b4aaccd827cdde9fc61",
              "IPY_MODEL_3f2d86ac8c594978ba34da12476a5185"
            ]
          }
        },
        "40d010487c8b498e87a9ba9f65fd816c": {
          "model_module": "@jupyter-widgets/base",
          "model_name": "LayoutModel",
          "state": {
            "_view_name": "LayoutView",
            "grid_template_rows": null,
            "right": null,
            "justify_content": null,
            "_view_module": "@jupyter-widgets/base",
            "overflow": null,
            "_model_module_version": "1.2.0",
            "_view_count": null,
            "flex_flow": null,
            "width": null,
            "min_width": null,
            "border": null,
            "align_items": null,
            "bottom": null,
            "_model_module": "@jupyter-widgets/base",
            "top": null,
            "grid_column": null,
            "overflow_y": null,
            "overflow_x": null,
            "grid_auto_flow": null,
            "grid_area": null,
            "grid_template_columns": null,
            "flex": null,
            "_model_name": "LayoutModel",
            "justify_items": null,
            "grid_row": null,
            "max_height": null,
            "align_content": null,
            "visibility": null,
            "align_self": null,
            "height": null,
            "min_height": null,
            "padding": null,
            "grid_auto_rows": null,
            "grid_gap": null,
            "max_width": null,
            "order": null,
            "_view_module_version": "1.2.0",
            "grid_template_areas": null,
            "object_position": null,
            "object_fit": null,
            "grid_auto_columns": null,
            "margin": null,
            "display": null,
            "left": null
          }
        },
        "e3ead912961d4b4aaccd827cdde9fc61": {
          "model_module": "@jupyter-widgets/controls",
          "model_name": "FloatProgressModel",
          "state": {
            "_view_name": "ProgressView",
            "style": "IPY_MODEL_f6223c1c30bd48b3955cb44ab20e1e36",
            "_dom_classes": [],
            "description": "Dl Size...: 100%",
            "_model_name": "FloatProgressModel",
            "bar_style": "success",
            "max": 1,
            "_view_module": "@jupyter-widgets/controls",
            "_model_module_version": "1.5.0",
            "value": 1,
            "_view_count": null,
            "_view_module_version": "1.5.0",
            "orientation": "horizontal",
            "min": 0,
            "description_tooltip": null,
            "_model_module": "@jupyter-widgets/controls",
            "layout": "IPY_MODEL_5f6565b16dcd413ea6fa188f8304f1c3"
          }
        },
        "3f2d86ac8c594978ba34da12476a5185": {
          "model_module": "@jupyter-widgets/controls",
          "model_name": "HTMLModel",
          "state": {
            "_view_name": "HTMLView",
            "style": "IPY_MODEL_6c6c7d5bc34d4c8aa48c3f6344b849ed",
            "_dom_classes": [],
            "description": "",
            "_model_name": "HTMLModel",
            "placeholder": "​",
            "_view_module": "@jupyter-widgets/controls",
            "_model_module_version": "1.5.0",
            "value": " 80/80 [00:01&lt;00:00, 56.03 MiB/s]",
            "_view_count": null,
            "_view_module_version": "1.5.0",
            "description_tooltip": null,
            "_model_module": "@jupyter-widgets/controls",
            "layout": "IPY_MODEL_5e16c22e94494f64a8cbcb7169472ff4"
          }
        },
        "f6223c1c30bd48b3955cb44ab20e1e36": {
          "model_module": "@jupyter-widgets/controls",
          "model_name": "ProgressStyleModel",
          "state": {
            "_view_name": "StyleView",
            "_model_name": "ProgressStyleModel",
            "description_width": "initial",
            "_view_module": "@jupyter-widgets/base",
            "_model_module_version": "1.5.0",
            "_view_count": null,
            "_view_module_version": "1.2.0",
            "bar_color": null,
            "_model_module": "@jupyter-widgets/controls"
          }
        },
        "5f6565b16dcd413ea6fa188f8304f1c3": {
          "model_module": "@jupyter-widgets/base",
          "model_name": "LayoutModel",
          "state": {
            "_view_name": "LayoutView",
            "grid_template_rows": null,
            "right": null,
            "justify_content": null,
            "_view_module": "@jupyter-widgets/base",
            "overflow": null,
            "_model_module_version": "1.2.0",
            "_view_count": null,
            "flex_flow": null,
            "width": null,
            "min_width": null,
            "border": null,
            "align_items": null,
            "bottom": null,
            "_model_module": "@jupyter-widgets/base",
            "top": null,
            "grid_column": null,
            "overflow_y": null,
            "overflow_x": null,
            "grid_auto_flow": null,
            "grid_area": null,
            "grid_template_columns": null,
            "flex": null,
            "_model_name": "LayoutModel",
            "justify_items": null,
            "grid_row": null,
            "max_height": null,
            "align_content": null,
            "visibility": null,
            "align_self": null,
            "height": null,
            "min_height": null,
            "padding": null,
            "grid_auto_rows": null,
            "grid_gap": null,
            "max_width": null,
            "order": null,
            "_view_module_version": "1.2.0",
            "grid_template_areas": null,
            "object_position": null,
            "object_fit": null,
            "grid_auto_columns": null,
            "margin": null,
            "display": null,
            "left": null
          }
        },
        "6c6c7d5bc34d4c8aa48c3f6344b849ed": {
          "model_module": "@jupyter-widgets/controls",
          "model_name": "DescriptionStyleModel",
          "state": {
            "_view_name": "StyleView",
            "_model_name": "DescriptionStyleModel",
            "description_width": "",
            "_view_module": "@jupyter-widgets/base",
            "_model_module_version": "1.5.0",
            "_view_count": null,
            "_view_module_version": "1.2.0",
            "_model_module": "@jupyter-widgets/controls"
          }
        },
        "5e16c22e94494f64a8cbcb7169472ff4": {
          "model_module": "@jupyter-widgets/base",
          "model_name": "LayoutModel",
          "state": {
            "_view_name": "LayoutView",
            "grid_template_rows": null,
            "right": null,
            "justify_content": null,
            "_view_module": "@jupyter-widgets/base",
            "overflow": null,
            "_model_module_version": "1.2.0",
            "_view_count": null,
            "flex_flow": null,
            "width": null,
            "min_width": null,
            "border": null,
            "align_items": null,
            "bottom": null,
            "_model_module": "@jupyter-widgets/base",
            "top": null,
            "grid_column": null,
            "overflow_y": null,
            "overflow_x": null,
            "grid_auto_flow": null,
            "grid_area": null,
            "grid_template_columns": null,
            "flex": null,
            "_model_name": "LayoutModel",
            "justify_items": null,
            "grid_row": null,
            "max_height": null,
            "align_content": null,
            "visibility": null,
            "align_self": null,
            "height": null,
            "min_height": null,
            "padding": null,
            "grid_auto_rows": null,
            "grid_gap": null,
            "max_width": null,
            "order": null,
            "_view_module_version": "1.2.0",
            "grid_template_areas": null,
            "object_position": null,
            "object_fit": null,
            "grid_auto_columns": null,
            "margin": null,
            "display": null,
            "left": null
          }
        },
        "8ff29386163c46a09f460b00662f001f": {
          "model_module": "@jupyter-widgets/controls",
          "model_name": "HBoxModel",
          "state": {
            "_view_name": "HBoxView",
            "_dom_classes": [],
            "_model_name": "HBoxModel",
            "_view_module": "@jupyter-widgets/controls",
            "_model_module_version": "1.5.0",
            "_view_count": null,
            "_view_module_version": "1.5.0",
            "box_style": "",
            "layout": "IPY_MODEL_e9fd90369cc54d69bbeb4f661c932724",
            "_model_module": "@jupyter-widgets/controls",
            "children": [
              "IPY_MODEL_2418ee205afb4878a91b78b932dc6135",
              "IPY_MODEL_36c01bb3a7de486b9beaa332597a50d1"
            ]
          }
        },
        "e9fd90369cc54d69bbeb4f661c932724": {
          "model_module": "@jupyter-widgets/base",
          "model_name": "LayoutModel",
          "state": {
            "_view_name": "LayoutView",
            "grid_template_rows": null,
            "right": null,
            "justify_content": null,
            "_view_module": "@jupyter-widgets/base",
            "overflow": null,
            "_model_module_version": "1.2.0",
            "_view_count": null,
            "flex_flow": null,
            "width": null,
            "min_width": null,
            "border": null,
            "align_items": null,
            "bottom": null,
            "_model_module": "@jupyter-widgets/base",
            "top": null,
            "grid_column": null,
            "overflow_y": null,
            "overflow_x": null,
            "grid_auto_flow": null,
            "grid_area": null,
            "grid_template_columns": null,
            "flex": null,
            "_model_name": "LayoutModel",
            "justify_items": null,
            "grid_row": null,
            "max_height": null,
            "align_content": null,
            "visibility": null,
            "align_self": null,
            "height": null,
            "min_height": null,
            "padding": null,
            "grid_auto_rows": null,
            "grid_gap": null,
            "max_width": null,
            "order": null,
            "_view_module_version": "1.2.0",
            "grid_template_areas": null,
            "object_position": null,
            "object_fit": null,
            "grid_auto_columns": null,
            "margin": null,
            "display": null,
            "left": null
          }
        },
        "2418ee205afb4878a91b78b932dc6135": {
          "model_module": "@jupyter-widgets/controls",
          "model_name": "FloatProgressModel",
          "state": {
            "_view_name": "ProgressView",
            "style": "IPY_MODEL_77abfd4075d44ec6b7386e3e177420ab",
            "_dom_classes": [],
            "description": "",
            "_model_name": "FloatProgressModel",
            "bar_style": "info",
            "max": 1,
            "_view_module": "@jupyter-widgets/controls",
            "_model_module_version": "1.5.0",
            "value": 1,
            "_view_count": null,
            "_view_module_version": "1.5.0",
            "orientation": "horizontal",
            "min": 0,
            "description_tooltip": null,
            "_model_module": "@jupyter-widgets/controls",
            "layout": "IPY_MODEL_c26df33d225f44849c159519e6c8c33b"
          }
        },
        "36c01bb3a7de486b9beaa332597a50d1": {
          "model_module": "@jupyter-widgets/controls",
          "model_name": "HTMLModel",
          "state": {
            "_view_name": "HTMLView",
            "style": "IPY_MODEL_7b9a6cc6b9aa44efbcc6f74a4ee17f97",
            "_dom_classes": [],
            "description": "",
            "_model_name": "HTMLModel",
            "placeholder": "​",
            "_view_module": "@jupyter-widgets/controls",
            "_model_module_version": "1.5.0",
            "value": " 25000/0 [00:11&lt;00:00, 3752.34 examples/s]",
            "_view_count": null,
            "_view_module_version": "1.5.0",
            "description_tooltip": null,
            "_model_module": "@jupyter-widgets/controls",
            "layout": "IPY_MODEL_e1794730e7514457939a6d31d555e4d3"
          }
        },
        "77abfd4075d44ec6b7386e3e177420ab": {
          "model_module": "@jupyter-widgets/controls",
          "model_name": "ProgressStyleModel",
          "state": {
            "_view_name": "StyleView",
            "_model_name": "ProgressStyleModel",
            "description_width": "initial",
            "_view_module": "@jupyter-widgets/base",
            "_model_module_version": "1.5.0",
            "_view_count": null,
            "_view_module_version": "1.2.0",
            "bar_color": null,
            "_model_module": "@jupyter-widgets/controls"
          }
        },
        "c26df33d225f44849c159519e6c8c33b": {
          "model_module": "@jupyter-widgets/base",
          "model_name": "LayoutModel",
          "state": {
            "_view_name": "LayoutView",
            "grid_template_rows": null,
            "right": null,
            "justify_content": null,
            "_view_module": "@jupyter-widgets/base",
            "overflow": null,
            "_model_module_version": "1.2.0",
            "_view_count": null,
            "flex_flow": null,
            "width": null,
            "min_width": null,
            "border": null,
            "align_items": null,
            "bottom": null,
            "_model_module": "@jupyter-widgets/base",
            "top": null,
            "grid_column": null,
            "overflow_y": null,
            "overflow_x": null,
            "grid_auto_flow": null,
            "grid_area": null,
            "grid_template_columns": null,
            "flex": null,
            "_model_name": "LayoutModel",
            "justify_items": null,
            "grid_row": null,
            "max_height": null,
            "align_content": null,
            "visibility": null,
            "align_self": null,
            "height": null,
            "min_height": null,
            "padding": null,
            "grid_auto_rows": null,
            "grid_gap": null,
            "max_width": null,
            "order": null,
            "_view_module_version": "1.2.0",
            "grid_template_areas": null,
            "object_position": null,
            "object_fit": null,
            "grid_auto_columns": null,
            "margin": null,
            "display": null,
            "left": null
          }
        },
        "7b9a6cc6b9aa44efbcc6f74a4ee17f97": {
          "model_module": "@jupyter-widgets/controls",
          "model_name": "DescriptionStyleModel",
          "state": {
            "_view_name": "StyleView",
            "_model_name": "DescriptionStyleModel",
            "description_width": "",
            "_view_module": "@jupyter-widgets/base",
            "_model_module_version": "1.5.0",
            "_view_count": null,
            "_view_module_version": "1.2.0",
            "_model_module": "@jupyter-widgets/controls"
          }
        },
        "e1794730e7514457939a6d31d555e4d3": {
          "model_module": "@jupyter-widgets/base",
          "model_name": "LayoutModel",
          "state": {
            "_view_name": "LayoutView",
            "grid_template_rows": null,
            "right": null,
            "justify_content": null,
            "_view_module": "@jupyter-widgets/base",
            "overflow": null,
            "_model_module_version": "1.2.0",
            "_view_count": null,
            "flex_flow": null,
            "width": null,
            "min_width": null,
            "border": null,
            "align_items": null,
            "bottom": null,
            "_model_module": "@jupyter-widgets/base",
            "top": null,
            "grid_column": null,
            "overflow_y": null,
            "overflow_x": null,
            "grid_auto_flow": null,
            "grid_area": null,
            "grid_template_columns": null,
            "flex": null,
            "_model_name": "LayoutModel",
            "justify_items": null,
            "grid_row": null,
            "max_height": null,
            "align_content": null,
            "visibility": null,
            "align_self": null,
            "height": null,
            "min_height": null,
            "padding": null,
            "grid_auto_rows": null,
            "grid_gap": null,
            "max_width": null,
            "order": null,
            "_view_module_version": "1.2.0",
            "grid_template_areas": null,
            "object_position": null,
            "object_fit": null,
            "grid_auto_columns": null,
            "margin": null,
            "display": null,
            "left": null
          }
        },
        "305415733a174c089944f2c6a3672a78": {
          "model_module": "@jupyter-widgets/controls",
          "model_name": "HBoxModel",
          "state": {
            "_view_name": "HBoxView",
            "_dom_classes": [],
            "_model_name": "HBoxModel",
            "_view_module": "@jupyter-widgets/controls",
            "_model_module_version": "1.5.0",
            "_view_count": null,
            "_view_module_version": "1.5.0",
            "box_style": "",
            "layout": "IPY_MODEL_81abb7720d3f440eb2f06051cb4b603d",
            "_model_module": "@jupyter-widgets/controls",
            "children": [
              "IPY_MODEL_3faa5014f0af423cbba7fb28ccdf2531",
              "IPY_MODEL_f5a662e89f164c7abc04ee7b612f6c67"
            ]
          }
        },
        "81abb7720d3f440eb2f06051cb4b603d": {
          "model_module": "@jupyter-widgets/base",
          "model_name": "LayoutModel",
          "state": {
            "_view_name": "LayoutView",
            "grid_template_rows": null,
            "right": null,
            "justify_content": null,
            "_view_module": "@jupyter-widgets/base",
            "overflow": null,
            "_model_module_version": "1.2.0",
            "_view_count": null,
            "flex_flow": null,
            "width": null,
            "min_width": null,
            "border": null,
            "align_items": null,
            "bottom": null,
            "_model_module": "@jupyter-widgets/base",
            "top": null,
            "grid_column": null,
            "overflow_y": null,
            "overflow_x": null,
            "grid_auto_flow": null,
            "grid_area": null,
            "grid_template_columns": null,
            "flex": null,
            "_model_name": "LayoutModel",
            "justify_items": null,
            "grid_row": null,
            "max_height": null,
            "align_content": null,
            "visibility": null,
            "align_self": null,
            "height": null,
            "min_height": null,
            "padding": null,
            "grid_auto_rows": null,
            "grid_gap": null,
            "max_width": null,
            "order": null,
            "_view_module_version": "1.2.0",
            "grid_template_areas": null,
            "object_position": null,
            "object_fit": null,
            "grid_auto_columns": null,
            "margin": null,
            "display": null,
            "left": null
          }
        },
        "3faa5014f0af423cbba7fb28ccdf2531": {
          "model_module": "@jupyter-widgets/controls",
          "model_name": "FloatProgressModel",
          "state": {
            "_view_name": "ProgressView",
            "style": "IPY_MODEL_0f70da74058b4a8a98fb673c8f27ce2f",
            "_dom_classes": [],
            "description": " 78%",
            "_model_name": "FloatProgressModel",
            "bar_style": "danger",
            "max": 25000,
            "_view_module": "@jupyter-widgets/controls",
            "_model_module_version": "1.5.0",
            "value": 19573,
            "_view_count": null,
            "_view_module_version": "1.5.0",
            "orientation": "horizontal",
            "min": 0,
            "description_tooltip": null,
            "_model_module": "@jupyter-widgets/controls",
            "layout": "IPY_MODEL_093a2be05e204c2fb26c88734007ca9e"
          }
        },
        "f5a662e89f164c7abc04ee7b612f6c67": {
          "model_module": "@jupyter-widgets/controls",
          "model_name": "HTMLModel",
          "state": {
            "_view_name": "HTMLView",
            "style": "IPY_MODEL_79e6fd44fc5f4e97a8b0c0274619a904",
            "_dom_classes": [],
            "description": "",
            "_model_name": "HTMLModel",
            "placeholder": "​",
            "_view_module": "@jupyter-widgets/controls",
            "_model_module_version": "1.5.0",
            "value": " 19573/25000 [00:00&lt;00:00, 195725.52 examples/s]",
            "_view_count": null,
            "_view_module_version": "1.5.0",
            "description_tooltip": null,
            "_model_module": "@jupyter-widgets/controls",
            "layout": "IPY_MODEL_9eaceade502449d785895df87807c996"
          }
        },
        "0f70da74058b4a8a98fb673c8f27ce2f": {
          "model_module": "@jupyter-widgets/controls",
          "model_name": "ProgressStyleModel",
          "state": {
            "_view_name": "StyleView",
            "_model_name": "ProgressStyleModel",
            "description_width": "initial",
            "_view_module": "@jupyter-widgets/base",
            "_model_module_version": "1.5.0",
            "_view_count": null,
            "_view_module_version": "1.2.0",
            "bar_color": null,
            "_model_module": "@jupyter-widgets/controls"
          }
        },
        "093a2be05e204c2fb26c88734007ca9e": {
          "model_module": "@jupyter-widgets/base",
          "model_name": "LayoutModel",
          "state": {
            "_view_name": "LayoutView",
            "grid_template_rows": null,
            "right": null,
            "justify_content": null,
            "_view_module": "@jupyter-widgets/base",
            "overflow": null,
            "_model_module_version": "1.2.0",
            "_view_count": null,
            "flex_flow": null,
            "width": null,
            "min_width": null,
            "border": null,
            "align_items": null,
            "bottom": null,
            "_model_module": "@jupyter-widgets/base",
            "top": null,
            "grid_column": null,
            "overflow_y": null,
            "overflow_x": null,
            "grid_auto_flow": null,
            "grid_area": null,
            "grid_template_columns": null,
            "flex": null,
            "_model_name": "LayoutModel",
            "justify_items": null,
            "grid_row": null,
            "max_height": null,
            "align_content": null,
            "visibility": null,
            "align_self": null,
            "height": null,
            "min_height": null,
            "padding": null,
            "grid_auto_rows": null,
            "grid_gap": null,
            "max_width": null,
            "order": null,
            "_view_module_version": "1.2.0",
            "grid_template_areas": null,
            "object_position": null,
            "object_fit": null,
            "grid_auto_columns": null,
            "margin": null,
            "display": null,
            "left": null
          }
        },
        "79e6fd44fc5f4e97a8b0c0274619a904": {
          "model_module": "@jupyter-widgets/controls",
          "model_name": "DescriptionStyleModel",
          "state": {
            "_view_name": "StyleView",
            "_model_name": "DescriptionStyleModel",
            "description_width": "",
            "_view_module": "@jupyter-widgets/base",
            "_model_module_version": "1.5.0",
            "_view_count": null,
            "_view_module_version": "1.2.0",
            "_model_module": "@jupyter-widgets/controls"
          }
        },
        "9eaceade502449d785895df87807c996": {
          "model_module": "@jupyter-widgets/base",
          "model_name": "LayoutModel",
          "state": {
            "_view_name": "LayoutView",
            "grid_template_rows": null,
            "right": null,
            "justify_content": null,
            "_view_module": "@jupyter-widgets/base",
            "overflow": null,
            "_model_module_version": "1.2.0",
            "_view_count": null,
            "flex_flow": null,
            "width": null,
            "min_width": null,
            "border": null,
            "align_items": null,
            "bottom": null,
            "_model_module": "@jupyter-widgets/base",
            "top": null,
            "grid_column": null,
            "overflow_y": null,
            "overflow_x": null,
            "grid_auto_flow": null,
            "grid_area": null,
            "grid_template_columns": null,
            "flex": null,
            "_model_name": "LayoutModel",
            "justify_items": null,
            "grid_row": null,
            "max_height": null,
            "align_content": null,
            "visibility": null,
            "align_self": null,
            "height": null,
            "min_height": null,
            "padding": null,
            "grid_auto_rows": null,
            "grid_gap": null,
            "max_width": null,
            "order": null,
            "_view_module_version": "1.2.0",
            "grid_template_areas": null,
            "object_position": null,
            "object_fit": null,
            "grid_auto_columns": null,
            "margin": null,
            "display": null,
            "left": null
          }
        },
        "5702065393a34dd49291b42ed1b706ed": {
          "model_module": "@jupyter-widgets/controls",
          "model_name": "HBoxModel",
          "state": {
            "_view_name": "HBoxView",
            "_dom_classes": [],
            "_model_name": "HBoxModel",
            "_view_module": "@jupyter-widgets/controls",
            "_model_module_version": "1.5.0",
            "_view_count": null,
            "_view_module_version": "1.5.0",
            "box_style": "",
            "layout": "IPY_MODEL_8c8cc24404f94f778b1e0a0a26b40fe7",
            "_model_module": "@jupyter-widgets/controls",
            "children": [
              "IPY_MODEL_3736b9476463472db9efd5bfdc996054",
              "IPY_MODEL_9a10f769b2a1473484a4a229ee1c7d8c"
            ]
          }
        },
        "8c8cc24404f94f778b1e0a0a26b40fe7": {
          "model_module": "@jupyter-widgets/base",
          "model_name": "LayoutModel",
          "state": {
            "_view_name": "LayoutView",
            "grid_template_rows": null,
            "right": null,
            "justify_content": null,
            "_view_module": "@jupyter-widgets/base",
            "overflow": null,
            "_model_module_version": "1.2.0",
            "_view_count": null,
            "flex_flow": null,
            "width": null,
            "min_width": null,
            "border": null,
            "align_items": null,
            "bottom": null,
            "_model_module": "@jupyter-widgets/base",
            "top": null,
            "grid_column": null,
            "overflow_y": null,
            "overflow_x": null,
            "grid_auto_flow": null,
            "grid_area": null,
            "grid_template_columns": null,
            "flex": null,
            "_model_name": "LayoutModel",
            "justify_items": null,
            "grid_row": null,
            "max_height": null,
            "align_content": null,
            "visibility": null,
            "align_self": null,
            "height": null,
            "min_height": null,
            "padding": null,
            "grid_auto_rows": null,
            "grid_gap": null,
            "max_width": null,
            "order": null,
            "_view_module_version": "1.2.0",
            "grid_template_areas": null,
            "object_position": null,
            "object_fit": null,
            "grid_auto_columns": null,
            "margin": null,
            "display": null,
            "left": null
          }
        },
        "3736b9476463472db9efd5bfdc996054": {
          "model_module": "@jupyter-widgets/controls",
          "model_name": "FloatProgressModel",
          "state": {
            "_view_name": "ProgressView",
            "style": "IPY_MODEL_8c41a59aef4c4f07aaa5c4b604c55fac",
            "_dom_classes": [],
            "description": "",
            "_model_name": "FloatProgressModel",
            "bar_style": "info",
            "max": 1,
            "_view_module": "@jupyter-widgets/controls",
            "_model_module_version": "1.5.0",
            "value": 1,
            "_view_count": null,
            "_view_module_version": "1.5.0",
            "orientation": "horizontal",
            "min": 0,
            "description_tooltip": null,
            "_model_module": "@jupyter-widgets/controls",
            "layout": "IPY_MODEL_aea75a2618284a47aa57d451bf7603e7"
          }
        },
        "9a10f769b2a1473484a4a229ee1c7d8c": {
          "model_module": "@jupyter-widgets/controls",
          "model_name": "HTMLModel",
          "state": {
            "_view_name": "HTMLView",
            "style": "IPY_MODEL_747d981adf3c46e2b873d69627d06582",
            "_dom_classes": [],
            "description": "",
            "_model_name": "HTMLModel",
            "placeholder": "​",
            "_view_module": "@jupyter-widgets/controls",
            "_model_module_version": "1.5.0",
            "value": " 25000/0 [00:11&lt;00:00, 3717.51 examples/s]",
            "_view_count": null,
            "_view_module_version": "1.5.0",
            "description_tooltip": null,
            "_model_module": "@jupyter-widgets/controls",
            "layout": "IPY_MODEL_52de34ab736140ac8e28044f14f83a47"
          }
        },
        "8c41a59aef4c4f07aaa5c4b604c55fac": {
          "model_module": "@jupyter-widgets/controls",
          "model_name": "ProgressStyleModel",
          "state": {
            "_view_name": "StyleView",
            "_model_name": "ProgressStyleModel",
            "description_width": "initial",
            "_view_module": "@jupyter-widgets/base",
            "_model_module_version": "1.5.0",
            "_view_count": null,
            "_view_module_version": "1.2.0",
            "bar_color": null,
            "_model_module": "@jupyter-widgets/controls"
          }
        },
        "aea75a2618284a47aa57d451bf7603e7": {
          "model_module": "@jupyter-widgets/base",
          "model_name": "LayoutModel",
          "state": {
            "_view_name": "LayoutView",
            "grid_template_rows": null,
            "right": null,
            "justify_content": null,
            "_view_module": "@jupyter-widgets/base",
            "overflow": null,
            "_model_module_version": "1.2.0",
            "_view_count": null,
            "flex_flow": null,
            "width": null,
            "min_width": null,
            "border": null,
            "align_items": null,
            "bottom": null,
            "_model_module": "@jupyter-widgets/base",
            "top": null,
            "grid_column": null,
            "overflow_y": null,
            "overflow_x": null,
            "grid_auto_flow": null,
            "grid_area": null,
            "grid_template_columns": null,
            "flex": null,
            "_model_name": "LayoutModel",
            "justify_items": null,
            "grid_row": null,
            "max_height": null,
            "align_content": null,
            "visibility": null,
            "align_self": null,
            "height": null,
            "min_height": null,
            "padding": null,
            "grid_auto_rows": null,
            "grid_gap": null,
            "max_width": null,
            "order": null,
            "_view_module_version": "1.2.0",
            "grid_template_areas": null,
            "object_position": null,
            "object_fit": null,
            "grid_auto_columns": null,
            "margin": null,
            "display": null,
            "left": null
          }
        },
        "747d981adf3c46e2b873d69627d06582": {
          "model_module": "@jupyter-widgets/controls",
          "model_name": "DescriptionStyleModel",
          "state": {
            "_view_name": "StyleView",
            "_model_name": "DescriptionStyleModel",
            "description_width": "",
            "_view_module": "@jupyter-widgets/base",
            "_model_module_version": "1.5.0",
            "_view_count": null,
            "_view_module_version": "1.2.0",
            "_model_module": "@jupyter-widgets/controls"
          }
        },
        "52de34ab736140ac8e28044f14f83a47": {
          "model_module": "@jupyter-widgets/base",
          "model_name": "LayoutModel",
          "state": {
            "_view_name": "LayoutView",
            "grid_template_rows": null,
            "right": null,
            "justify_content": null,
            "_view_module": "@jupyter-widgets/base",
            "overflow": null,
            "_model_module_version": "1.2.0",
            "_view_count": null,
            "flex_flow": null,
            "width": null,
            "min_width": null,
            "border": null,
            "align_items": null,
            "bottom": null,
            "_model_module": "@jupyter-widgets/base",
            "top": null,
            "grid_column": null,
            "overflow_y": null,
            "overflow_x": null,
            "grid_auto_flow": null,
            "grid_area": null,
            "grid_template_columns": null,
            "flex": null,
            "_model_name": "LayoutModel",
            "justify_items": null,
            "grid_row": null,
            "max_height": null,
            "align_content": null,
            "visibility": null,
            "align_self": null,
            "height": null,
            "min_height": null,
            "padding": null,
            "grid_auto_rows": null,
            "grid_gap": null,
            "max_width": null,
            "order": null,
            "_view_module_version": "1.2.0",
            "grid_template_areas": null,
            "object_position": null,
            "object_fit": null,
            "grid_auto_columns": null,
            "margin": null,
            "display": null,
            "left": null
          }
        },
        "53735cb71c6a49e99ae6b669bbe58e67": {
          "model_module": "@jupyter-widgets/controls",
          "model_name": "HBoxModel",
          "state": {
            "_view_name": "HBoxView",
            "_dom_classes": [],
            "_model_name": "HBoxModel",
            "_view_module": "@jupyter-widgets/controls",
            "_model_module_version": "1.5.0",
            "_view_count": null,
            "_view_module_version": "1.5.0",
            "box_style": "",
            "layout": "IPY_MODEL_fd300f3808844dafbecf027e66e5dba9",
            "_model_module": "@jupyter-widgets/controls",
            "children": [
              "IPY_MODEL_2399566fccb1477297afdb08ba9fb37f",
              "IPY_MODEL_59efb14f0aeb46fe8570ad1377279597"
            ]
          }
        },
        "fd300f3808844dafbecf027e66e5dba9": {
          "model_module": "@jupyter-widgets/base",
          "model_name": "LayoutModel",
          "state": {
            "_view_name": "LayoutView",
            "grid_template_rows": null,
            "right": null,
            "justify_content": null,
            "_view_module": "@jupyter-widgets/base",
            "overflow": null,
            "_model_module_version": "1.2.0",
            "_view_count": null,
            "flex_flow": null,
            "width": null,
            "min_width": null,
            "border": null,
            "align_items": null,
            "bottom": null,
            "_model_module": "@jupyter-widgets/base",
            "top": null,
            "grid_column": null,
            "overflow_y": null,
            "overflow_x": null,
            "grid_auto_flow": null,
            "grid_area": null,
            "grid_template_columns": null,
            "flex": null,
            "_model_name": "LayoutModel",
            "justify_items": null,
            "grid_row": null,
            "max_height": null,
            "align_content": null,
            "visibility": null,
            "align_self": null,
            "height": null,
            "min_height": null,
            "padding": null,
            "grid_auto_rows": null,
            "grid_gap": null,
            "max_width": null,
            "order": null,
            "_view_module_version": "1.2.0",
            "grid_template_areas": null,
            "object_position": null,
            "object_fit": null,
            "grid_auto_columns": null,
            "margin": null,
            "display": null,
            "left": null
          }
        },
        "2399566fccb1477297afdb08ba9fb37f": {
          "model_module": "@jupyter-widgets/controls",
          "model_name": "FloatProgressModel",
          "state": {
            "_view_name": "ProgressView",
            "style": "IPY_MODEL_836ab0f4a14f469eb466116266201eba",
            "_dom_classes": [],
            "description": " 83%",
            "_model_name": "FloatProgressModel",
            "bar_style": "danger",
            "max": 25000,
            "_view_module": "@jupyter-widgets/controls",
            "_model_module_version": "1.5.0",
            "value": 20633,
            "_view_count": null,
            "_view_module_version": "1.5.0",
            "orientation": "horizontal",
            "min": 0,
            "description_tooltip": null,
            "_model_module": "@jupyter-widgets/controls",
            "layout": "IPY_MODEL_fcfbd1efd3354551a308dee82f9fc17d"
          }
        },
        "59efb14f0aeb46fe8570ad1377279597": {
          "model_module": "@jupyter-widgets/controls",
          "model_name": "HTMLModel",
          "state": {
            "_view_name": "HTMLView",
            "style": "IPY_MODEL_cad9290687ff4c3fbb74bab92244c867",
            "_dom_classes": [],
            "description": "",
            "_model_name": "HTMLModel",
            "placeholder": "​",
            "_view_module": "@jupyter-widgets/controls",
            "_model_module_version": "1.5.0",
            "value": " 20633/25000 [00:00&lt;00:00, 206320.85 examples/s]",
            "_view_count": null,
            "_view_module_version": "1.5.0",
            "description_tooltip": null,
            "_model_module": "@jupyter-widgets/controls",
            "layout": "IPY_MODEL_52a0c845c8fb438c8c23712554f5b950"
          }
        },
        "836ab0f4a14f469eb466116266201eba": {
          "model_module": "@jupyter-widgets/controls",
          "model_name": "ProgressStyleModel",
          "state": {
            "_view_name": "StyleView",
            "_model_name": "ProgressStyleModel",
            "description_width": "initial",
            "_view_module": "@jupyter-widgets/base",
            "_model_module_version": "1.5.0",
            "_view_count": null,
            "_view_module_version": "1.2.0",
            "bar_color": null,
            "_model_module": "@jupyter-widgets/controls"
          }
        },
        "fcfbd1efd3354551a308dee82f9fc17d": {
          "model_module": "@jupyter-widgets/base",
          "model_name": "LayoutModel",
          "state": {
            "_view_name": "LayoutView",
            "grid_template_rows": null,
            "right": null,
            "justify_content": null,
            "_view_module": "@jupyter-widgets/base",
            "overflow": null,
            "_model_module_version": "1.2.0",
            "_view_count": null,
            "flex_flow": null,
            "width": null,
            "min_width": null,
            "border": null,
            "align_items": null,
            "bottom": null,
            "_model_module": "@jupyter-widgets/base",
            "top": null,
            "grid_column": null,
            "overflow_y": null,
            "overflow_x": null,
            "grid_auto_flow": null,
            "grid_area": null,
            "grid_template_columns": null,
            "flex": null,
            "_model_name": "LayoutModel",
            "justify_items": null,
            "grid_row": null,
            "max_height": null,
            "align_content": null,
            "visibility": null,
            "align_self": null,
            "height": null,
            "min_height": null,
            "padding": null,
            "grid_auto_rows": null,
            "grid_gap": null,
            "max_width": null,
            "order": null,
            "_view_module_version": "1.2.0",
            "grid_template_areas": null,
            "object_position": null,
            "object_fit": null,
            "grid_auto_columns": null,
            "margin": null,
            "display": null,
            "left": null
          }
        },
        "cad9290687ff4c3fbb74bab92244c867": {
          "model_module": "@jupyter-widgets/controls",
          "model_name": "DescriptionStyleModel",
          "state": {
            "_view_name": "StyleView",
            "_model_name": "DescriptionStyleModel",
            "description_width": "",
            "_view_module": "@jupyter-widgets/base",
            "_model_module_version": "1.5.0",
            "_view_count": null,
            "_view_module_version": "1.2.0",
            "_model_module": "@jupyter-widgets/controls"
          }
        },
        "52a0c845c8fb438c8c23712554f5b950": {
          "model_module": "@jupyter-widgets/base",
          "model_name": "LayoutModel",
          "state": {
            "_view_name": "LayoutView",
            "grid_template_rows": null,
            "right": null,
            "justify_content": null,
            "_view_module": "@jupyter-widgets/base",
            "overflow": null,
            "_model_module_version": "1.2.0",
            "_view_count": null,
            "flex_flow": null,
            "width": null,
            "min_width": null,
            "border": null,
            "align_items": null,
            "bottom": null,
            "_model_module": "@jupyter-widgets/base",
            "top": null,
            "grid_column": null,
            "overflow_y": null,
            "overflow_x": null,
            "grid_auto_flow": null,
            "grid_area": null,
            "grid_template_columns": null,
            "flex": null,
            "_model_name": "LayoutModel",
            "justify_items": null,
            "grid_row": null,
            "max_height": null,
            "align_content": null,
            "visibility": null,
            "align_self": null,
            "height": null,
            "min_height": null,
            "padding": null,
            "grid_auto_rows": null,
            "grid_gap": null,
            "max_width": null,
            "order": null,
            "_view_module_version": "1.2.0",
            "grid_template_areas": null,
            "object_position": null,
            "object_fit": null,
            "grid_auto_columns": null,
            "margin": null,
            "display": null,
            "left": null
          }
        },
        "e2c812aaa1d44ba4be8719ae43e29e31": {
          "model_module": "@jupyter-widgets/controls",
          "model_name": "HBoxModel",
          "state": {
            "_view_name": "HBoxView",
            "_dom_classes": [],
            "_model_name": "HBoxModel",
            "_view_module": "@jupyter-widgets/controls",
            "_model_module_version": "1.5.0",
            "_view_count": null,
            "_view_module_version": "1.5.0",
            "box_style": "",
            "layout": "IPY_MODEL_16d4d2e7da474034b56e05a4d8d29c46",
            "_model_module": "@jupyter-widgets/controls",
            "children": [
              "IPY_MODEL_6309d6d294b04b1da52514cb0b75086c",
              "IPY_MODEL_aa9871eeecca480395d94c40cdb3686a"
            ]
          }
        },
        "16d4d2e7da474034b56e05a4d8d29c46": {
          "model_module": "@jupyter-widgets/base",
          "model_name": "LayoutModel",
          "state": {
            "_view_name": "LayoutView",
            "grid_template_rows": null,
            "right": null,
            "justify_content": null,
            "_view_module": "@jupyter-widgets/base",
            "overflow": null,
            "_model_module_version": "1.2.0",
            "_view_count": null,
            "flex_flow": null,
            "width": null,
            "min_width": null,
            "border": null,
            "align_items": null,
            "bottom": null,
            "_model_module": "@jupyter-widgets/base",
            "top": null,
            "grid_column": null,
            "overflow_y": null,
            "overflow_x": null,
            "grid_auto_flow": null,
            "grid_area": null,
            "grid_template_columns": null,
            "flex": null,
            "_model_name": "LayoutModel",
            "justify_items": null,
            "grid_row": null,
            "max_height": null,
            "align_content": null,
            "visibility": null,
            "align_self": null,
            "height": null,
            "min_height": null,
            "padding": null,
            "grid_auto_rows": null,
            "grid_gap": null,
            "max_width": null,
            "order": null,
            "_view_module_version": "1.2.0",
            "grid_template_areas": null,
            "object_position": null,
            "object_fit": null,
            "grid_auto_columns": null,
            "margin": null,
            "display": null,
            "left": null
          }
        },
        "6309d6d294b04b1da52514cb0b75086c": {
          "model_module": "@jupyter-widgets/controls",
          "model_name": "FloatProgressModel",
          "state": {
            "_view_name": "ProgressView",
            "style": "IPY_MODEL_bd34cfceabfa453fb5a22a4ce9da67f2",
            "_dom_classes": [],
            "description": "",
            "_model_name": "FloatProgressModel",
            "bar_style": "info",
            "max": 1,
            "_view_module": "@jupyter-widgets/controls",
            "_model_module_version": "1.5.0",
            "value": 1,
            "_view_count": null,
            "_view_module_version": "1.5.0",
            "orientation": "horizontal",
            "min": 0,
            "description_tooltip": null,
            "_model_module": "@jupyter-widgets/controls",
            "layout": "IPY_MODEL_58013926466a4b269f6b6915b2258bb9"
          }
        },
        "aa9871eeecca480395d94c40cdb3686a": {
          "model_module": "@jupyter-widgets/controls",
          "model_name": "HTMLModel",
          "state": {
            "_view_name": "HTMLView",
            "style": "IPY_MODEL_a2f5a873248145e0a57c65edeb3898ea",
            "_dom_classes": [],
            "description": "",
            "_model_name": "HTMLModel",
            "placeholder": "​",
            "_view_module": "@jupyter-widgets/controls",
            "_model_module_version": "1.5.0",
            "value": " 50000/0 [00:16&lt;00:00, 3592.92 examples/s]",
            "_view_count": null,
            "_view_module_version": "1.5.0",
            "description_tooltip": null,
            "_model_module": "@jupyter-widgets/controls",
            "layout": "IPY_MODEL_b17bb2a397e046e59dc98f8ca9454a93"
          }
        },
        "bd34cfceabfa453fb5a22a4ce9da67f2": {
          "model_module": "@jupyter-widgets/controls",
          "model_name": "ProgressStyleModel",
          "state": {
            "_view_name": "StyleView",
            "_model_name": "ProgressStyleModel",
            "description_width": "initial",
            "_view_module": "@jupyter-widgets/base",
            "_model_module_version": "1.5.0",
            "_view_count": null,
            "_view_module_version": "1.2.0",
            "bar_color": null,
            "_model_module": "@jupyter-widgets/controls"
          }
        },
        "58013926466a4b269f6b6915b2258bb9": {
          "model_module": "@jupyter-widgets/base",
          "model_name": "LayoutModel",
          "state": {
            "_view_name": "LayoutView",
            "grid_template_rows": null,
            "right": null,
            "justify_content": null,
            "_view_module": "@jupyter-widgets/base",
            "overflow": null,
            "_model_module_version": "1.2.0",
            "_view_count": null,
            "flex_flow": null,
            "width": null,
            "min_width": null,
            "border": null,
            "align_items": null,
            "bottom": null,
            "_model_module": "@jupyter-widgets/base",
            "top": null,
            "grid_column": null,
            "overflow_y": null,
            "overflow_x": null,
            "grid_auto_flow": null,
            "grid_area": null,
            "grid_template_columns": null,
            "flex": null,
            "_model_name": "LayoutModel",
            "justify_items": null,
            "grid_row": null,
            "max_height": null,
            "align_content": null,
            "visibility": null,
            "align_self": null,
            "height": null,
            "min_height": null,
            "padding": null,
            "grid_auto_rows": null,
            "grid_gap": null,
            "max_width": null,
            "order": null,
            "_view_module_version": "1.2.0",
            "grid_template_areas": null,
            "object_position": null,
            "object_fit": null,
            "grid_auto_columns": null,
            "margin": null,
            "display": null,
            "left": null
          }
        },
        "a2f5a873248145e0a57c65edeb3898ea": {
          "model_module": "@jupyter-widgets/controls",
          "model_name": "DescriptionStyleModel",
          "state": {
            "_view_name": "StyleView",
            "_model_name": "DescriptionStyleModel",
            "description_width": "",
            "_view_module": "@jupyter-widgets/base",
            "_model_module_version": "1.5.0",
            "_view_count": null,
            "_view_module_version": "1.2.0",
            "_model_module": "@jupyter-widgets/controls"
          }
        },
        "b17bb2a397e046e59dc98f8ca9454a93": {
          "model_module": "@jupyter-widgets/base",
          "model_name": "LayoutModel",
          "state": {
            "_view_name": "LayoutView",
            "grid_template_rows": null,
            "right": null,
            "justify_content": null,
            "_view_module": "@jupyter-widgets/base",
            "overflow": null,
            "_model_module_version": "1.2.0",
            "_view_count": null,
            "flex_flow": null,
            "width": null,
            "min_width": null,
            "border": null,
            "align_items": null,
            "bottom": null,
            "_model_module": "@jupyter-widgets/base",
            "top": null,
            "grid_column": null,
            "overflow_y": null,
            "overflow_x": null,
            "grid_auto_flow": null,
            "grid_area": null,
            "grid_template_columns": null,
            "flex": null,
            "_model_name": "LayoutModel",
            "justify_items": null,
            "grid_row": null,
            "max_height": null,
            "align_content": null,
            "visibility": null,
            "align_self": null,
            "height": null,
            "min_height": null,
            "padding": null,
            "grid_auto_rows": null,
            "grid_gap": null,
            "max_width": null,
            "order": null,
            "_view_module_version": "1.2.0",
            "grid_template_areas": null,
            "object_position": null,
            "object_fit": null,
            "grid_auto_columns": null,
            "margin": null,
            "display": null,
            "left": null
          }
        },
        "50187e73bc0d4a23935a3c902c7c4d44": {
          "model_module": "@jupyter-widgets/controls",
          "model_name": "HBoxModel",
          "state": {
            "_view_name": "HBoxView",
            "_dom_classes": [],
            "_model_name": "HBoxModel",
            "_view_module": "@jupyter-widgets/controls",
            "_model_module_version": "1.5.0",
            "_view_count": null,
            "_view_module_version": "1.5.0",
            "box_style": "",
            "layout": "IPY_MODEL_b57e453a12864a8bbb3a40439093953b",
            "_model_module": "@jupyter-widgets/controls",
            "children": [
              "IPY_MODEL_3404cdbc39824455ba83e6813fe6b3ee",
              "IPY_MODEL_152958f4dfe543048499ab769ab5f83a"
            ]
          }
        },
        "b57e453a12864a8bbb3a40439093953b": {
          "model_module": "@jupyter-widgets/base",
          "model_name": "LayoutModel",
          "state": {
            "_view_name": "LayoutView",
            "grid_template_rows": null,
            "right": null,
            "justify_content": null,
            "_view_module": "@jupyter-widgets/base",
            "overflow": null,
            "_model_module_version": "1.2.0",
            "_view_count": null,
            "flex_flow": null,
            "width": null,
            "min_width": null,
            "border": null,
            "align_items": null,
            "bottom": null,
            "_model_module": "@jupyter-widgets/base",
            "top": null,
            "grid_column": null,
            "overflow_y": null,
            "overflow_x": null,
            "grid_auto_flow": null,
            "grid_area": null,
            "grid_template_columns": null,
            "flex": null,
            "_model_name": "LayoutModel",
            "justify_items": null,
            "grid_row": null,
            "max_height": null,
            "align_content": null,
            "visibility": null,
            "align_self": null,
            "height": null,
            "min_height": null,
            "padding": null,
            "grid_auto_rows": null,
            "grid_gap": null,
            "max_width": null,
            "order": null,
            "_view_module_version": "1.2.0",
            "grid_template_areas": null,
            "object_position": null,
            "object_fit": null,
            "grid_auto_columns": null,
            "margin": null,
            "display": null,
            "left": null
          }
        },
        "3404cdbc39824455ba83e6813fe6b3ee": {
          "model_module": "@jupyter-widgets/controls",
          "model_name": "FloatProgressModel",
          "state": {
            "_view_name": "ProgressView",
            "style": "IPY_MODEL_95051766fae647969ae8d2b232e42b01",
            "_dom_classes": [],
            "description": " 85%",
            "_model_name": "FloatProgressModel",
            "bar_style": "danger",
            "max": 50000,
            "_view_module": "@jupyter-widgets/controls",
            "_model_module_version": "1.5.0",
            "value": 42319,
            "_view_count": null,
            "_view_module_version": "1.5.0",
            "orientation": "horizontal",
            "min": 0,
            "description_tooltip": null,
            "_model_module": "@jupyter-widgets/controls",
            "layout": "IPY_MODEL_49dcc45b81c845a88740b4d4dbfbcca7"
          }
        },
        "152958f4dfe543048499ab769ab5f83a": {
          "model_module": "@jupyter-widgets/controls",
          "model_name": "HTMLModel",
          "state": {
            "_view_name": "HTMLView",
            "style": "IPY_MODEL_c603c88996624c588ae772078db9f336",
            "_dom_classes": [],
            "description": "",
            "_model_name": "HTMLModel",
            "placeholder": "​",
            "_view_module": "@jupyter-widgets/controls",
            "_model_module_version": "1.5.0",
            "value": " 42319/50000 [00:08&lt;00:00, 153561.92 examples/s]",
            "_view_count": null,
            "_view_module_version": "1.5.0",
            "description_tooltip": null,
            "_model_module": "@jupyter-widgets/controls",
            "layout": "IPY_MODEL_90bdb3f073fd493baae9911ef9687e2c"
          }
        },
        "95051766fae647969ae8d2b232e42b01": {
          "model_module": "@jupyter-widgets/controls",
          "model_name": "ProgressStyleModel",
          "state": {
            "_view_name": "StyleView",
            "_model_name": "ProgressStyleModel",
            "description_width": "initial",
            "_view_module": "@jupyter-widgets/base",
            "_model_module_version": "1.5.0",
            "_view_count": null,
            "_view_module_version": "1.2.0",
            "bar_color": null,
            "_model_module": "@jupyter-widgets/controls"
          }
        },
        "49dcc45b81c845a88740b4d4dbfbcca7": {
          "model_module": "@jupyter-widgets/base",
          "model_name": "LayoutModel",
          "state": {
            "_view_name": "LayoutView",
            "grid_template_rows": null,
            "right": null,
            "justify_content": null,
            "_view_module": "@jupyter-widgets/base",
            "overflow": null,
            "_model_module_version": "1.2.0",
            "_view_count": null,
            "flex_flow": null,
            "width": null,
            "min_width": null,
            "border": null,
            "align_items": null,
            "bottom": null,
            "_model_module": "@jupyter-widgets/base",
            "top": null,
            "grid_column": null,
            "overflow_y": null,
            "overflow_x": null,
            "grid_auto_flow": null,
            "grid_area": null,
            "grid_template_columns": null,
            "flex": null,
            "_model_name": "LayoutModel",
            "justify_items": null,
            "grid_row": null,
            "max_height": null,
            "align_content": null,
            "visibility": null,
            "align_self": null,
            "height": null,
            "min_height": null,
            "padding": null,
            "grid_auto_rows": null,
            "grid_gap": null,
            "max_width": null,
            "order": null,
            "_view_module_version": "1.2.0",
            "grid_template_areas": null,
            "object_position": null,
            "object_fit": null,
            "grid_auto_columns": null,
            "margin": null,
            "display": null,
            "left": null
          }
        },
        "c603c88996624c588ae772078db9f336": {
          "model_module": "@jupyter-widgets/controls",
          "model_name": "DescriptionStyleModel",
          "state": {
            "_view_name": "StyleView",
            "_model_name": "DescriptionStyleModel",
            "description_width": "",
            "_view_module": "@jupyter-widgets/base",
            "_model_module_version": "1.5.0",
            "_view_count": null,
            "_view_module_version": "1.2.0",
            "_model_module": "@jupyter-widgets/controls"
          }
        },
        "90bdb3f073fd493baae9911ef9687e2c": {
          "model_module": "@jupyter-widgets/base",
          "model_name": "LayoutModel",
          "state": {
            "_view_name": "LayoutView",
            "grid_template_rows": null,
            "right": null,
            "justify_content": null,
            "_view_module": "@jupyter-widgets/base",
            "overflow": null,
            "_model_module_version": "1.2.0",
            "_view_count": null,
            "flex_flow": null,
            "width": null,
            "min_width": null,
            "border": null,
            "align_items": null,
            "bottom": null,
            "_model_module": "@jupyter-widgets/base",
            "top": null,
            "grid_column": null,
            "overflow_y": null,
            "overflow_x": null,
            "grid_auto_flow": null,
            "grid_area": null,
            "grid_template_columns": null,
            "flex": null,
            "_model_name": "LayoutModel",
            "justify_items": null,
            "grid_row": null,
            "max_height": null,
            "align_content": null,
            "visibility": null,
            "align_self": null,
            "height": null,
            "min_height": null,
            "padding": null,
            "grid_auto_rows": null,
            "grid_gap": null,
            "max_width": null,
            "order": null,
            "_view_module_version": "1.2.0",
            "grid_template_areas": null,
            "object_position": null,
            "object_fit": null,
            "grid_auto_columns": null,
            "margin": null,
            "display": null,
            "left": null
          }
        },
        "ba886261cac14ea49e3b68bcfe39e320": {
          "model_module": "@jupyter-widgets/controls",
          "model_name": "HBoxModel",
          "state": {
            "_view_name": "HBoxView",
            "_dom_classes": [],
            "_model_name": "HBoxModel",
            "_view_module": "@jupyter-widgets/controls",
            "_model_module_version": "1.5.0",
            "_view_count": null,
            "_view_module_version": "1.5.0",
            "box_style": "",
            "layout": "IPY_MODEL_96d6e3a99a2846eea2d49d4ceef8cb1e",
            "_model_module": "@jupyter-widgets/controls",
            "children": [
              "IPY_MODEL_dbf122b634d744acb001b974461306b7",
              "IPY_MODEL_78ce653b3ae44f4a9f0e6eaa8f446627"
            ]
          }
        },
        "96d6e3a99a2846eea2d49d4ceef8cb1e": {
          "model_module": "@jupyter-widgets/base",
          "model_name": "LayoutModel",
          "state": {
            "_view_name": "LayoutView",
            "grid_template_rows": null,
            "right": null,
            "justify_content": null,
            "_view_module": "@jupyter-widgets/base",
            "overflow": null,
            "_model_module_version": "1.2.0",
            "_view_count": null,
            "flex_flow": null,
            "width": null,
            "min_width": null,
            "border": null,
            "align_items": null,
            "bottom": null,
            "_model_module": "@jupyter-widgets/base",
            "top": null,
            "grid_column": null,
            "overflow_y": null,
            "overflow_x": null,
            "grid_auto_flow": null,
            "grid_area": null,
            "grid_template_columns": null,
            "flex": null,
            "_model_name": "LayoutModel",
            "justify_items": null,
            "grid_row": null,
            "max_height": null,
            "align_content": null,
            "visibility": null,
            "align_self": null,
            "height": null,
            "min_height": null,
            "padding": null,
            "grid_auto_rows": null,
            "grid_gap": null,
            "max_width": null,
            "order": null,
            "_view_module_version": "1.2.0",
            "grid_template_areas": null,
            "object_position": null,
            "object_fit": null,
            "grid_auto_columns": null,
            "margin": null,
            "display": null,
            "left": null
          }
        },
        "dbf122b634d744acb001b974461306b7": {
          "model_module": "@jupyter-widgets/controls",
          "model_name": "FloatProgressModel",
          "state": {
            "_view_name": "ProgressView",
            "style": "IPY_MODEL_b994413a8c0f41598467695c9a28a593",
            "_dom_classes": [],
            "description": "Downloading: 100%",
            "_model_name": "FloatProgressModel",
            "bar_style": "success",
            "max": 231508,
            "_view_module": "@jupyter-widgets/controls",
            "_model_module_version": "1.5.0",
            "value": 231508,
            "_view_count": null,
            "_view_module_version": "1.5.0",
            "orientation": "horizontal",
            "min": 0,
            "description_tooltip": null,
            "_model_module": "@jupyter-widgets/controls",
            "layout": "IPY_MODEL_feca0d9bc84441209275b54e40f990d6"
          }
        },
        "78ce653b3ae44f4a9f0e6eaa8f446627": {
          "model_module": "@jupyter-widgets/controls",
          "model_name": "HTMLModel",
          "state": {
            "_view_name": "HTMLView",
            "style": "IPY_MODEL_bbbf4f40bad74480ba47bb95f1aba339",
            "_dom_classes": [],
            "description": "",
            "_model_name": "HTMLModel",
            "placeholder": "​",
            "_view_module": "@jupyter-widgets/controls",
            "_model_module_version": "1.5.0",
            "value": " 232k/232k [00:00&lt;00:00, 304kB/s]",
            "_view_count": null,
            "_view_module_version": "1.5.0",
            "description_tooltip": null,
            "_model_module": "@jupyter-widgets/controls",
            "layout": "IPY_MODEL_de8d11edca0143a68361735c6f03ae57"
          }
        },
        "b994413a8c0f41598467695c9a28a593": {
          "model_module": "@jupyter-widgets/controls",
          "model_name": "ProgressStyleModel",
          "state": {
            "_view_name": "StyleView",
            "_model_name": "ProgressStyleModel",
            "description_width": "initial",
            "_view_module": "@jupyter-widgets/base",
            "_model_module_version": "1.5.0",
            "_view_count": null,
            "_view_module_version": "1.2.0",
            "bar_color": null,
            "_model_module": "@jupyter-widgets/controls"
          }
        },
        "feca0d9bc84441209275b54e40f990d6": {
          "model_module": "@jupyter-widgets/base",
          "model_name": "LayoutModel",
          "state": {
            "_view_name": "LayoutView",
            "grid_template_rows": null,
            "right": null,
            "justify_content": null,
            "_view_module": "@jupyter-widgets/base",
            "overflow": null,
            "_model_module_version": "1.2.0",
            "_view_count": null,
            "flex_flow": null,
            "width": null,
            "min_width": null,
            "border": null,
            "align_items": null,
            "bottom": null,
            "_model_module": "@jupyter-widgets/base",
            "top": null,
            "grid_column": null,
            "overflow_y": null,
            "overflow_x": null,
            "grid_auto_flow": null,
            "grid_area": null,
            "grid_template_columns": null,
            "flex": null,
            "_model_name": "LayoutModel",
            "justify_items": null,
            "grid_row": null,
            "max_height": null,
            "align_content": null,
            "visibility": null,
            "align_self": null,
            "height": null,
            "min_height": null,
            "padding": null,
            "grid_auto_rows": null,
            "grid_gap": null,
            "max_width": null,
            "order": null,
            "_view_module_version": "1.2.0",
            "grid_template_areas": null,
            "object_position": null,
            "object_fit": null,
            "grid_auto_columns": null,
            "margin": null,
            "display": null,
            "left": null
          }
        },
        "bbbf4f40bad74480ba47bb95f1aba339": {
          "model_module": "@jupyter-widgets/controls",
          "model_name": "DescriptionStyleModel",
          "state": {
            "_view_name": "StyleView",
            "_model_name": "DescriptionStyleModel",
            "description_width": "",
            "_view_module": "@jupyter-widgets/base",
            "_model_module_version": "1.5.0",
            "_view_count": null,
            "_view_module_version": "1.2.0",
            "_model_module": "@jupyter-widgets/controls"
          }
        },
        "de8d11edca0143a68361735c6f03ae57": {
          "model_module": "@jupyter-widgets/base",
          "model_name": "LayoutModel",
          "state": {
            "_view_name": "LayoutView",
            "grid_template_rows": null,
            "right": null,
            "justify_content": null,
            "_view_module": "@jupyter-widgets/base",
            "overflow": null,
            "_model_module_version": "1.2.0",
            "_view_count": null,
            "flex_flow": null,
            "width": null,
            "min_width": null,
            "border": null,
            "align_items": null,
            "bottom": null,
            "_model_module": "@jupyter-widgets/base",
            "top": null,
            "grid_column": null,
            "overflow_y": null,
            "overflow_x": null,
            "grid_auto_flow": null,
            "grid_area": null,
            "grid_template_columns": null,
            "flex": null,
            "_model_name": "LayoutModel",
            "justify_items": null,
            "grid_row": null,
            "max_height": null,
            "align_content": null,
            "visibility": null,
            "align_self": null,
            "height": null,
            "min_height": null,
            "padding": null,
            "grid_auto_rows": null,
            "grid_gap": null,
            "max_width": null,
            "order": null,
            "_view_module_version": "1.2.0",
            "grid_template_areas": null,
            "object_position": null,
            "object_fit": null,
            "grid_auto_columns": null,
            "margin": null,
            "display": null,
            "left": null
          }
        },
        "85df778936db41d8b5d6774b87a3572a": {
          "model_module": "@jupyter-widgets/controls",
          "model_name": "HBoxModel",
          "state": {
            "_view_name": "HBoxView",
            "_dom_classes": [],
            "_model_name": "HBoxModel",
            "_view_module": "@jupyter-widgets/controls",
            "_model_module_version": "1.5.0",
            "_view_count": null,
            "_view_module_version": "1.5.0",
            "box_style": "",
            "layout": "IPY_MODEL_62369c890b3341258ee6e037f4abed42",
            "_model_module": "@jupyter-widgets/controls",
            "children": [
              "IPY_MODEL_25f945066d334d199426f213380575f3",
              "IPY_MODEL_b7b8eba3576647c8ac4ed19c939a5cb7"
            ]
          }
        },
        "62369c890b3341258ee6e037f4abed42": {
          "model_module": "@jupyter-widgets/base",
          "model_name": "LayoutModel",
          "state": {
            "_view_name": "LayoutView",
            "grid_template_rows": null,
            "right": null,
            "justify_content": null,
            "_view_module": "@jupyter-widgets/base",
            "overflow": null,
            "_model_module_version": "1.2.0",
            "_view_count": null,
            "flex_flow": null,
            "width": null,
            "min_width": null,
            "border": null,
            "align_items": null,
            "bottom": null,
            "_model_module": "@jupyter-widgets/base",
            "top": null,
            "grid_column": null,
            "overflow_y": null,
            "overflow_x": null,
            "grid_auto_flow": null,
            "grid_area": null,
            "grid_template_columns": null,
            "flex": null,
            "_model_name": "LayoutModel",
            "justify_items": null,
            "grid_row": null,
            "max_height": null,
            "align_content": null,
            "visibility": null,
            "align_self": null,
            "height": null,
            "min_height": null,
            "padding": null,
            "grid_auto_rows": null,
            "grid_gap": null,
            "max_width": null,
            "order": null,
            "_view_module_version": "1.2.0",
            "grid_template_areas": null,
            "object_position": null,
            "object_fit": null,
            "grid_auto_columns": null,
            "margin": null,
            "display": null,
            "left": null
          }
        },
        "25f945066d334d199426f213380575f3": {
          "model_module": "@jupyter-widgets/controls",
          "model_name": "FloatProgressModel",
          "state": {
            "_view_name": "ProgressView",
            "style": "IPY_MODEL_24dc81a038ca441aa1df58559390f99b",
            "_dom_classes": [],
            "description": "Downloading: 100%",
            "_model_name": "FloatProgressModel",
            "bar_style": "success",
            "max": 798011,
            "_view_module": "@jupyter-widgets/controls",
            "_model_module_version": "1.5.0",
            "value": 798011,
            "_view_count": null,
            "_view_module_version": "1.5.0",
            "orientation": "horizontal",
            "min": 0,
            "description_tooltip": null,
            "_model_module": "@jupyter-widgets/controls",
            "layout": "IPY_MODEL_834319e8c36648f68f8a8d82b185bbef"
          }
        },
        "b7b8eba3576647c8ac4ed19c939a5cb7": {
          "model_module": "@jupyter-widgets/controls",
          "model_name": "HTMLModel",
          "state": {
            "_view_name": "HTMLView",
            "style": "IPY_MODEL_a0bdec39fdbd40278b439c0f8c2f7475",
            "_dom_classes": [],
            "description": "",
            "_model_name": "HTMLModel",
            "placeholder": "​",
            "_view_module": "@jupyter-widgets/controls",
            "_model_module_version": "1.5.0",
            "value": " 798k/798k [00:01&lt;00:00, 595kB/s]",
            "_view_count": null,
            "_view_module_version": "1.5.0",
            "description_tooltip": null,
            "_model_module": "@jupyter-widgets/controls",
            "layout": "IPY_MODEL_389f6fa81e314c43bcdb3d5ddf85e43c"
          }
        },
        "24dc81a038ca441aa1df58559390f99b": {
          "model_module": "@jupyter-widgets/controls",
          "model_name": "ProgressStyleModel",
          "state": {
            "_view_name": "StyleView",
            "_model_name": "ProgressStyleModel",
            "description_width": "initial",
            "_view_module": "@jupyter-widgets/base",
            "_model_module_version": "1.5.0",
            "_view_count": null,
            "_view_module_version": "1.2.0",
            "bar_color": null,
            "_model_module": "@jupyter-widgets/controls"
          }
        },
        "834319e8c36648f68f8a8d82b185bbef": {
          "model_module": "@jupyter-widgets/base",
          "model_name": "LayoutModel",
          "state": {
            "_view_name": "LayoutView",
            "grid_template_rows": null,
            "right": null,
            "justify_content": null,
            "_view_module": "@jupyter-widgets/base",
            "overflow": null,
            "_model_module_version": "1.2.0",
            "_view_count": null,
            "flex_flow": null,
            "width": null,
            "min_width": null,
            "border": null,
            "align_items": null,
            "bottom": null,
            "_model_module": "@jupyter-widgets/base",
            "top": null,
            "grid_column": null,
            "overflow_y": null,
            "overflow_x": null,
            "grid_auto_flow": null,
            "grid_area": null,
            "grid_template_columns": null,
            "flex": null,
            "_model_name": "LayoutModel",
            "justify_items": null,
            "grid_row": null,
            "max_height": null,
            "align_content": null,
            "visibility": null,
            "align_self": null,
            "height": null,
            "min_height": null,
            "padding": null,
            "grid_auto_rows": null,
            "grid_gap": null,
            "max_width": null,
            "order": null,
            "_view_module_version": "1.2.0",
            "grid_template_areas": null,
            "object_position": null,
            "object_fit": null,
            "grid_auto_columns": null,
            "margin": null,
            "display": null,
            "left": null
          }
        },
        "a0bdec39fdbd40278b439c0f8c2f7475": {
          "model_module": "@jupyter-widgets/controls",
          "model_name": "DescriptionStyleModel",
          "state": {
            "_view_name": "StyleView",
            "_model_name": "DescriptionStyleModel",
            "description_width": "",
            "_view_module": "@jupyter-widgets/base",
            "_model_module_version": "1.5.0",
            "_view_count": null,
            "_view_module_version": "1.2.0",
            "_model_module": "@jupyter-widgets/controls"
          }
        },
        "389f6fa81e314c43bcdb3d5ddf85e43c": {
          "model_module": "@jupyter-widgets/base",
          "model_name": "LayoutModel",
          "state": {
            "_view_name": "LayoutView",
            "grid_template_rows": null,
            "right": null,
            "justify_content": null,
            "_view_module": "@jupyter-widgets/base",
            "overflow": null,
            "_model_module_version": "1.2.0",
            "_view_count": null,
            "flex_flow": null,
            "width": null,
            "min_width": null,
            "border": null,
            "align_items": null,
            "bottom": null,
            "_model_module": "@jupyter-widgets/base",
            "top": null,
            "grid_column": null,
            "overflow_y": null,
            "overflow_x": null,
            "grid_auto_flow": null,
            "grid_area": null,
            "grid_template_columns": null,
            "flex": null,
            "_model_name": "LayoutModel",
            "justify_items": null,
            "grid_row": null,
            "max_height": null,
            "align_content": null,
            "visibility": null,
            "align_self": null,
            "height": null,
            "min_height": null,
            "padding": null,
            "grid_auto_rows": null,
            "grid_gap": null,
            "max_width": null,
            "order": null,
            "_view_module_version": "1.2.0",
            "grid_template_areas": null,
            "object_position": null,
            "object_fit": null,
            "grid_auto_columns": null,
            "margin": null,
            "display": null,
            "left": null
          }
        }
      }
    }
  },
  "cells": [
    {
      "cell_type": "markdown",
      "metadata": {
        "id": "KOhpYbtvB-fN",
        "colab_type": "text"
      },
      "source": [
        "<img align=center src=\"data:image/png;base64,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\"></img>"
      ]
    },
    {
      "cell_type": "markdown",
      "metadata": {
        "colab_type": "text",
        "id": "onGhUH8cBBrr"
      },
      "source": [
        "#### IMDB sentiment analysis"
      ]
    },
    {
      "cell_type": "markdown",
      "metadata": {
        "id": "VGxhoF8PBPkY",
        "colab_type": "text"
      },
      "source": [
        " In this notebook im showing few methids to solve the IMDB sentiment analysis challenge.\n",
        " the methods are:\n",
        " * BiLSTMs + Attention (learned embeddings)\n",
        " * Pretrained embeddings\n",
        "    * gnews-swivel-20dim-with-oov\n",
        "    * gnews-swivel-20dim\n",
        "    * nnlm-en-dim50\n",
        "    * nnlm-en-dim128\n",
        "    * universal-sentence-encoder\n",
        " * Fine tunning:\n",
        "    * BERT\n",
        "    * XLNet"
      ]
    },
    {
      "cell_type": "code",
      "metadata": {
        "id": "LASkY9iz8c6P",
        "colab_type": "code",
        "colab": {
          "base_uri": "https://localhost:8080/",
          "height": 121
        },
        "outputId": "9d947659-bc05-4848-86a5-6186aaf12bbc"
      },
      "source": [
        "from google.colab import drive\n",
        "drive.mount('/content/drive')"
      ],
      "execution_count": 1,
      "outputs": [
        {
          "output_type": "stream",
          "text": [
            "Go to this URL in a browser: https://accounts.google.com/o/oauth2/auth?client_id=947318989803-6bn6qk8qdgf4n4g3pfee6491hc0brc4i.apps.googleusercontent.com&redirect_uri=urn%3aietf%3awg%3aoauth%3a2.0%3aoob&response_type=code&scope=email%20https%3a%2f%2fwww.googleapis.com%2fauth%2fdocs.test%20https%3a%2f%2fwww.googleapis.com%2fauth%2fdrive%20https%3a%2f%2fwww.googleapis.com%2fauth%2fdrive.photos.readonly%20https%3a%2f%2fwww.googleapis.com%2fauth%2fpeopleapi.readonly\n",
            "\n",
            "Enter your authorization code:\n",
            "··········\n",
            "Mounted at /content/drive\n"
          ],
          "name": "stdout"
        }
      ]
    },
    {
      "cell_type": "markdown",
      "metadata": {
        "id": "v2WXvr417uTJ",
        "colab_type": "text"
      },
      "source": [
        "###### Load the data"
      ]
    },
    {
      "cell_type": "code",
      "metadata": {
        "id": "Y27s5QslIalg",
        "colab_type": "code",
        "colab": {
          "base_uri": "https://localhost:8080/",
          "height": 0
        },
        "outputId": "1f8f95d6-901c-4313-d2fa-8bfb4057f9ad"
      },
      "source": [
        "import os\n",
        "import re\n",
        "import nltk\n",
        "import random\n",
        "import numpy as np\n",
        "import pandas as pd\n",
        "from tqdm import tqdm\n",
        "import tensorflow as tf\n",
        "\n",
        "random.seed(42)\n",
        "np.random.seed(42)\n",
        "os.environ['PYTHONHASHSEED'] = str(42)\n",
        "tf.random.set_seed(42)\n",
        "\n",
        "nltk.download('stopwords')\n",
        "from nltk.corpus import stopwords\n",
        "  \n",
        "\n",
        "\n",
        "\n",
        "\n",
        "import tensorflow.keras as keras\n",
        "import tensorflow_datasets as tfds\n",
        "from tensorflow.keras.models import Model, Sequential\n",
        "from tensorflow.keras.preprocessing.text import Tokenizer\n",
        "from tensorflow.keras.preprocessing.sequence import pad_sequences\n",
        "from tensorflow.keras.callbacks import ModelCheckpoint, EarlyStopping\n",
        "from tensorflow.keras import initializers, regularizers, constraints, optimizers, layers\n",
        "from tensorflow.keras.layers import Concatenate, Dense, Input, LSTM, Embedding, Dropout, Activation, Bidirectional\n",
        "\n",
        "from keras import regularizers\n",
        "\n",
        "tf.get_logger().setLevel('ERROR')"
      ],
      "execution_count": 2,
      "outputs": [
        {
          "output_type": "stream",
          "text": [
            "[nltk_data] Downloading package stopwords to /root/nltk_data...\n",
            "[nltk_data]   Unzipping corpora/stopwords.zip.\n"
          ],
          "name": "stdout"
        },
        {
          "output_type": "stream",
          "text": [
            "Using TensorFlow backend.\n"
          ],
          "name": "stderr"
        }
      ]
    },
    {
      "cell_type": "code",
      "metadata": {
        "id": "dDaHIeCh9bE9",
        "colab_type": "code",
        "colab": {
          "base_uri": "https://localhost:8080/",
          "height": 0
        },
        "outputId": "67f64fa2-b7c2-4ef9-e0cc-1a5cf6ddd364"
      },
      "source": [
        "!pip install transformers --quiet"
      ],
      "execution_count": 3,
      "outputs": [
        {
          "output_type": "stream",
          "text": [
            "\u001b[K     |████████████████████████████████| 778kB 4.7MB/s \n",
            "\u001b[K     |████████████████████████████████| 3.0MB 24.4MB/s \n",
            "\u001b[K     |████████████████████████████████| 890kB 42.6MB/s \n",
            "\u001b[K     |████████████████████████████████| 1.1MB 63.1MB/s \n",
            "\u001b[?25h  Building wheel for sacremoses (setup.py) ... \u001b[?25l\u001b[?25hdone\n"
          ],
          "name": "stdout"
        }
      ]
    },
    {
      "cell_type": "code",
      "metadata": {
        "id": "G6bisDqQRqna",
        "colab_type": "code",
        "colab": {
          "base_uri": "https://localhost:8080/",
          "height": 0,
          "referenced_widgets": [
            "669a3f4ae11442bf8864a58d7d49d705",
            "569f25f78ab742f0b97b28420a96a48d",
            "9cbfb22b6bf949afb26efa489c0581ed",
            "da061a82a99e4d47a3a63fde566ee8a9",
            "a559b8c51480452999e94fe04a49c43c",
            "ccaab330fbff430faeb4d41d6b22c739",
            "7e1cc493f7974e4684ab0dfc2725c690",
            "899e8fda6c4b4feb912af5533ee5f33f",
            "fae856f3e30e4fa99085c33105d602b6",
            "40d010487c8b498e87a9ba9f65fd816c",
            "e3ead912961d4b4aaccd827cdde9fc61",
            "3f2d86ac8c594978ba34da12476a5185",
            "f6223c1c30bd48b3955cb44ab20e1e36",
            "5f6565b16dcd413ea6fa188f8304f1c3",
            "6c6c7d5bc34d4c8aa48c3f6344b849ed",
            "5e16c22e94494f64a8cbcb7169472ff4",
            "8ff29386163c46a09f460b00662f001f",
            "e9fd90369cc54d69bbeb4f661c932724",
            "2418ee205afb4878a91b78b932dc6135",
            "36c01bb3a7de486b9beaa332597a50d1",
            "77abfd4075d44ec6b7386e3e177420ab",
            "c26df33d225f44849c159519e6c8c33b",
            "7b9a6cc6b9aa44efbcc6f74a4ee17f97",
            "e1794730e7514457939a6d31d555e4d3",
            "305415733a174c089944f2c6a3672a78",
            "81abb7720d3f440eb2f06051cb4b603d",
            "3faa5014f0af423cbba7fb28ccdf2531",
            "f5a662e89f164c7abc04ee7b612f6c67",
            "0f70da74058b4a8a98fb673c8f27ce2f",
            "093a2be05e204c2fb26c88734007ca9e",
            "79e6fd44fc5f4e97a8b0c0274619a904",
            "9eaceade502449d785895df87807c996",
            "5702065393a34dd49291b42ed1b706ed",
            "8c8cc24404f94f778b1e0a0a26b40fe7",
            "3736b9476463472db9efd5bfdc996054",
            "9a10f769b2a1473484a4a229ee1c7d8c",
            "8c41a59aef4c4f07aaa5c4b604c55fac",
            "aea75a2618284a47aa57d451bf7603e7",
            "747d981adf3c46e2b873d69627d06582",
            "52de34ab736140ac8e28044f14f83a47",
            "53735cb71c6a49e99ae6b669bbe58e67",
            "fd300f3808844dafbecf027e66e5dba9",
            "2399566fccb1477297afdb08ba9fb37f",
            "59efb14f0aeb46fe8570ad1377279597",
            "836ab0f4a14f469eb466116266201eba",
            "fcfbd1efd3354551a308dee82f9fc17d",
            "cad9290687ff4c3fbb74bab92244c867",
            "52a0c845c8fb438c8c23712554f5b950",
            "e2c812aaa1d44ba4be8719ae43e29e31",
            "16d4d2e7da474034b56e05a4d8d29c46",
            "6309d6d294b04b1da52514cb0b75086c",
            "aa9871eeecca480395d94c40cdb3686a",
            "bd34cfceabfa453fb5a22a4ce9da67f2",
            "58013926466a4b269f6b6915b2258bb9",
            "a2f5a873248145e0a57c65edeb3898ea",
            "b17bb2a397e046e59dc98f8ca9454a93",
            "50187e73bc0d4a23935a3c902c7c4d44",
            "b57e453a12864a8bbb3a40439093953b",
            "3404cdbc39824455ba83e6813fe6b3ee",
            "152958f4dfe543048499ab769ab5f83a",
            "95051766fae647969ae8d2b232e42b01",
            "49dcc45b81c845a88740b4d4dbfbcca7",
            "c603c88996624c588ae772078db9f336",
            "90bdb3f073fd493baae9911ef9687e2c"
          ]
        },
        "outputId": "b3a608ab-596d-4b36-db84-1825779955d1"
      },
      "source": [
        "import tensorflow_datasets as tfds\n",
        "\n",
        "(ds_train, ds_test), ds_info = tfds.load('imdb_reviews', \n",
        "          split = (tfds.Split.TRAIN, tfds.Split.TEST),\n",
        "          as_supervised=True,\n",
        "          with_info=True)"
      ],
      "execution_count": 4,
      "outputs": [
        {
          "output_type": "stream",
          "text": [
            "\u001b[1mDownloading and preparing dataset imdb_reviews/plain_text/1.0.0 (download: 80.23 MiB, generated: Unknown size, total: 80.23 MiB) to /root/tensorflow_datasets/imdb_reviews/plain_text/1.0.0...\u001b[0m\n"
          ],
          "name": "stdout"
        },
        {
          "output_type": "display_data",
          "data": {
            "application/vnd.jupyter.widget-view+json": {
              "model_id": "669a3f4ae11442bf8864a58d7d49d705",
              "version_minor": 0,
              "version_major": 2
            },
            "text/plain": [
              "HBox(children=(FloatProgress(value=1.0, bar_style='info', description='Dl Completed...', max=1.0, style=Progre…"
            ]
          },
          "metadata": {
            "tags": []
          }
        },
        {
          "output_type": "display_data",
          "data": {
            "application/vnd.jupyter.widget-view+json": {
              "model_id": "fae856f3e30e4fa99085c33105d602b6",
              "version_minor": 0,
              "version_major": 2
            },
            "text/plain": [
              "HBox(children=(FloatProgress(value=1.0, bar_style='info', description='Dl Size...', max=1.0, style=ProgressSty…"
            ]
          },
          "metadata": {
            "tags": []
          }
        },
        {
          "output_type": "stream",
          "text": [
            "\n",
            "\n",
            "\n",
            "\n"
          ],
          "name": "stdout"
        },
        {
          "output_type": "display_data",
          "data": {
            "application/vnd.jupyter.widget-view+json": {
              "model_id": "8ff29386163c46a09f460b00662f001f",
              "version_minor": 0,
              "version_major": 2
            },
            "text/plain": [
              "HBox(children=(FloatProgress(value=1.0, bar_style='info', max=1.0), HTML(value='')))"
            ]
          },
          "metadata": {
            "tags": []
          }
        },
        {
          "output_type": "stream",
          "text": [
            "\rShuffling and writing examples to /root/tensorflow_datasets/imdb_reviews/plain_text/1.0.0.incompleteHBRPOI/imdb_reviews-train.tfrecord\n"
          ],
          "name": "stdout"
        },
        {
          "output_type": "display_data",
          "data": {
            "application/vnd.jupyter.widget-view+json": {
              "model_id": "305415733a174c089944f2c6a3672a78",
              "version_minor": 0,
              "version_major": 2
            },
            "text/plain": [
              "HBox(children=(FloatProgress(value=0.0, max=25000.0), HTML(value='')))"
            ]
          },
          "metadata": {
            "tags": []
          }
        },
        {
          "output_type": "stream",
          "text": [
            "\r"
          ],
          "name": "stdout"
        },
        {
          "output_type": "display_data",
          "data": {
            "application/vnd.jupyter.widget-view+json": {
              "model_id": "5702065393a34dd49291b42ed1b706ed",
              "version_minor": 0,
              "version_major": 2
            },
            "text/plain": [
              "HBox(children=(FloatProgress(value=1.0, bar_style='info', max=1.0), HTML(value='')))"
            ]
          },
          "metadata": {
            "tags": []
          }
        },
        {
          "output_type": "stream",
          "text": [
            "\rShuffling and writing examples to /root/tensorflow_datasets/imdb_reviews/plain_text/1.0.0.incompleteHBRPOI/imdb_reviews-test.tfrecord\n"
          ],
          "name": "stdout"
        },
        {
          "output_type": "display_data",
          "data": {
            "application/vnd.jupyter.widget-view+json": {
              "model_id": "53735cb71c6a49e99ae6b669bbe58e67",
              "version_minor": 0,
              "version_major": 2
            },
            "text/plain": [
              "HBox(children=(FloatProgress(value=0.0, max=25000.0), HTML(value='')))"
            ]
          },
          "metadata": {
            "tags": []
          }
        },
        {
          "output_type": "stream",
          "text": [
            "\r"
          ],
          "name": "stdout"
        },
        {
          "output_type": "display_data",
          "data": {
            "application/vnd.jupyter.widget-view+json": {
              "model_id": "e2c812aaa1d44ba4be8719ae43e29e31",
              "version_minor": 0,
              "version_major": 2
            },
            "text/plain": [
              "HBox(children=(FloatProgress(value=1.0, bar_style='info', max=1.0), HTML(value='')))"
            ]
          },
          "metadata": {
            "tags": []
          }
        },
        {
          "output_type": "stream",
          "text": [
            "\rShuffling and writing examples to /root/tensorflow_datasets/imdb_reviews/plain_text/1.0.0.incompleteHBRPOI/imdb_reviews-unsupervised.tfrecord\n"
          ],
          "name": "stdout"
        },
        {
          "output_type": "display_data",
          "data": {
            "application/vnd.jupyter.widget-view+json": {
              "model_id": "50187e73bc0d4a23935a3c902c7c4d44",
              "version_minor": 0,
              "version_major": 2
            },
            "text/plain": [
              "HBox(children=(FloatProgress(value=0.0, max=50000.0), HTML(value='')))"
            ]
          },
          "metadata": {
            "tags": []
          }
        },
        {
          "output_type": "stream",
          "text": [
            "\u001b[1mDataset imdb_reviews downloaded and prepared to /root/tensorflow_datasets/imdb_reviews/plain_text/1.0.0. Subsequent calls will reuse this data.\u001b[0m\n",
            "\r"
          ],
          "name": "stdout"
        }
      ]
    },
    {
      "cell_type": "code",
      "metadata": {
        "id": "3SIbmbW_MvgO",
        "colab_type": "code",
        "colab": {}
      },
      "source": [
        "# Hyperparameters\n",
        "\n",
        "MAX_FEATURES = 6000\n",
        "EMBED_SIZE = 512\n",
        "MAX_LEN = 400  # Since our mean length is ~ 230\n",
        "\n",
        "BATCH_SIZE = 200\n",
        "EPOCHS = 20\n",
        "VALIDATION_SPLIT = 0.2\n",
        "\n",
        "RNN_CELL_SIZE = 256\n",
        "NUM_ATTENTION_HEADS = 8\n",
        "\n",
        "DROPOUT_RATE = 0.5\n",
        "REGULARIZERS_RATE = 0.005"
      ],
      "execution_count": 4,
      "outputs": []
    },
    {
      "cell_type": "markdown",
      "metadata": {
        "id": "hRy4bdn7OR7P",
        "colab_type": "text"
      },
      "source": [
        "###### Preprocessing the data"
      ]
    },
    {
      "cell_type": "code",
      "metadata": {
        "id": "dX4qB_wGSGtp",
        "colab_type": "code",
        "colab": {
          "base_uri": "https://localhost:8080/",
          "height": 0
        },
        "outputId": "5229b7bb-4e3f-44dc-93d6-65af94cf3117"
      },
      "source": [
        "review_list = []\n",
        "sentiment_list = []\n",
        "for review, label in tfds.as_numpy(ds_train):\n",
        "    review_list.append(tf.compat.as_str_any(review))\n",
        "    sentiment_list.append(label)\n",
        "print(len(review_list))\n",
        "for review, label in tfds.as_numpy(ds_test):\n",
        "    review_list.append(tf.compat.as_str_any(review))\n",
        "    sentiment_list.append(label)\n",
        "print(len(review_list))"
      ],
      "execution_count": 5,
      "outputs": [
        {
          "output_type": "stream",
          "text": [
            "25000\n",
            "50000\n"
          ],
          "name": "stdout"
        }
      ]
    },
    {
      "cell_type": "code",
      "metadata": {
        "id": "yHuf2aLsRzOV",
        "colab_type": "code",
        "colab": {
          "base_uri": "https://localhost:8080/",
          "height": 0
        },
        "outputId": "330c9bde-733d-492d-9515-54402a16cb05"
      },
      "source": [
        "df = pd.DataFrame({'review': review_list, 'sentiment': sentiment_list})\n",
        "\n",
        "stop_words = set(stopwords.words(\"english\"))\n",
        "\n",
        " \n",
        "def clean_text(text):\n",
        "\ttext = re.sub(r'[^\\w\\s]','',text, re.UNICODE)\n",
        "\ttext = text.lower()\n",
        "\t# text = [word for word in text.split() if  word not in stop_words]\n",
        "\t# text = \" \".join(text)\n",
        "\treturn text\n",
        "  \n",
        "df['Processed_Reviews'] = df.review.apply(lambda x: clean_text(x))\n",
        "df.head()"
      ],
      "execution_count": 6,
      "outputs": [
        {
          "output_type": "execute_result",
          "data": {
            "text/html": [
              "<div>\n",
              "<style scoped>\n",
              "    .dataframe tbody tr th:only-of-type {\n",
              "        vertical-align: middle;\n",
              "    }\n",
              "\n",
              "    .dataframe tbody tr th {\n",
              "        vertical-align: top;\n",
              "    }\n",
              "\n",
              "    .dataframe thead th {\n",
              "        text-align: right;\n",
              "    }\n",
              "</style>\n",
              "<table border=\"1\" class=\"dataframe\">\n",
              "  <thead>\n",
              "    <tr style=\"text-align: right;\">\n",
              "      <th></th>\n",
              "      <th>review</th>\n",
              "      <th>sentiment</th>\n",
              "      <th>Processed_Reviews</th>\n",
              "    </tr>\n",
              "  </thead>\n",
              "  <tbody>\n",
              "    <tr>\n",
              "      <th>0</th>\n",
              "      <td>This was an absolutely terrible movie. Don't b...</td>\n",
              "      <td>0</td>\n",
              "      <td>this was an absolutely terrible movie dont be ...</td>\n",
              "    </tr>\n",
              "    <tr>\n",
              "      <th>1</th>\n",
              "      <td>I have been known to fall asleep during films,...</td>\n",
              "      <td>0</td>\n",
              "      <td>i have been known to fall asleep during films ...</td>\n",
              "    </tr>\n",
              "    <tr>\n",
              "      <th>2</th>\n",
              "      <td>Mann photographs the Alberta Rocky Mountains i...</td>\n",
              "      <td>0</td>\n",
              "      <td>mann photographs the alberta rocky mountains i...</td>\n",
              "    </tr>\n",
              "    <tr>\n",
              "      <th>3</th>\n",
              "      <td>This is the kind of film for a snowy Sunday af...</td>\n",
              "      <td>1</td>\n",
              "      <td>this is the kind of film for a snowy sunday af...</td>\n",
              "    </tr>\n",
              "    <tr>\n",
              "      <th>4</th>\n",
              "      <td>As others have mentioned, all the women that g...</td>\n",
              "      <td>1</td>\n",
              "      <td>as others have mentioned all the women that go...</td>\n",
              "    </tr>\n",
              "  </tbody>\n",
              "</table>\n",
              "</div>"
            ],
            "text/plain": [
              "                                              review  ...                                  Processed_Reviews\n",
              "0  This was an absolutely terrible movie. Don't b...  ...  this was an absolutely terrible movie dont be ...\n",
              "1  I have been known to fall asleep during films,...  ...  i have been known to fall asleep during films ...\n",
              "2  Mann photographs the Alberta Rocky Mountains i...  ...  mann photographs the alberta rocky mountains i...\n",
              "3  This is the kind of film for a snowy Sunday af...  ...  this is the kind of film for a snowy sunday af...\n",
              "4  As others have mentioned, all the women that g...  ...  as others have mentioned all the women that go...\n",
              "\n",
              "[5 rows x 3 columns]"
            ]
          },
          "metadata": {
            "tags": []
          },
          "execution_count": 6
        }
      ]
    },
    {
      "cell_type": "code",
      "metadata": {
        "id": "UXVh7qtHMu6g",
        "colab_type": "code",
        "colab": {
          "base_uri": "https://localhost:8080/",
          "height": 0
        },
        "outputId": "64b2ca64-123d-4eca-b5b0-88dc9fdb4a29"
      },
      "source": [
        "mean_word_len = df.Processed_Reviews.apply(lambda x: len(x.split(\" \"))).mean()\n",
        "print(f\"Dataset with shape of {df.shape[0]} samples. \\nMean number of words is: {mean_word_len}. \\nDistribution of lables is: \\n{df.sentiment.value_counts()}\")"
      ],
      "execution_count": 7,
      "outputs": [
        {
          "output_type": "stream",
          "text": [
            "Dataset with shape of 50000 samples. \n",
            "Mean number of words is: 231.14594. \n",
            "Distribution of lables is: \n",
            "1    25000\n",
            "0    25000\n",
            "Name: sentiment, dtype: int64\n"
          ],
          "name": "stdout"
        }
      ]
    },
    {
      "cell_type": "markdown",
      "metadata": {
        "id": "FCR1sRbZ7jVB",
        "colab_type": "text"
      },
      "source": [
        "###### BiLSTMs + Attention (learned embeddings)"
      ]
    },
    {
      "cell_type": "code",
      "metadata": {
        "id": "iI6u8WlE26s8",
        "colab_type": "code",
        "colab": {}
      },
      "source": [
        "tokenizer = Tokenizer(num_words=MAX_FEATURES)\n",
        "tokenizer.fit_on_texts(df['Processed_Reviews'])\n",
        "list_tokenized_train = tokenizer.texts_to_sequences(df['Processed_Reviews'])\n",
        "  \n",
        "X_train = pad_sequences(list_tokenized_train, maxlen=MAX_LEN, padding='post')\n",
        "y_train = df['sentiment']"
      ],
      "execution_count": 8,
      "outputs": []
    },
    {
      "cell_type": "code",
      "metadata": {
        "id": "PibaLVqR9Fx_",
        "colab_type": "code",
        "colab": {
          "base_uri": "https://localhost:8080/",
          "height": 0
        },
        "outputId": "d950197f-25ef-468f-e537-67d5b07f1269"
      },
      "source": [
        "max([len(x) for x in list_tokenized_train])"
      ],
      "execution_count": 9,
      "outputs": [
        {
          "output_type": "execute_result",
          "data": {
            "text/plain": [
              "2128"
            ]
          },
          "metadata": {
            "tags": []
          },
          "execution_count": 9
        }
      ]
    },
    {
      "cell_type": "code",
      "metadata": {
        "id": "9GK73q03M1TF",
        "colab_type": "code",
        "colab": {}
      },
      "source": [
        "class Attention(tf.keras.Model):\n",
        "\tdef __init__(self, units):\n",
        "\t\tsuper(Attention, self).__init__()\n",
        "\t\tself.W1 = tf.keras.layers.Dense(units)\n",
        "\t\tself.W2 = tf.keras.layers.Dense(units)\n",
        "\t\tself.V = tf.keras.layers.Dense(1)\n",
        "\n",
        "\tdef call(self, features, hidden):\n",
        "\t\t# hidden shape == (batch_size, hidden size)\n",
        "\t\t# hidden_with_time_axis shape == (batch_size, 1, hidden size)\n",
        "\t\t# we are doing this to perform addition to calculate the score\n",
        "\t\thidden_with_time_axis = tf.expand_dims(hidden, 1)\n",
        "\t\t  \n",
        "\t\t# score shape == (batch_size, max_length, 1)\n",
        "\t\t# we get 1 at the last axis because we are applying score to self.V\n",
        "\t\t# the shape of the tensor before applying self.V is (batch_size, max_length, units)\n",
        "\t\tscore = tf.nn.tanh(\n",
        "\t\t\tself.W1(features) + self.W2(hidden_with_time_axis))\n",
        "\t\t# attention_weights shape == (batch_size, max_length, 1)\n",
        "\t\tattention_weights = tf.nn.softmax(self.V(score), axis=1)\n",
        "\t\t  \n",
        "\t\t# context_vector shape after sum == (batch_size, hidden_size)\n",
        "\t\tcontext_vector = attention_weights * features\n",
        "\t\tcontext_vector = tf.reduce_sum(context_vector, axis=1)\n",
        "\t\treturn context_vector, attention_weights"
      ],
      "execution_count": 10,
      "outputs": []
    },
    {
      "cell_type": "code",
      "metadata": {
        "id": "UqAGYqVKNTDo",
        "colab_type": "code",
        "colab": {}
      },
      "source": [
        "sequence_input = Input(shape=(MAX_LEN,), dtype=\"int32\")\n",
        "embedded_sequences = Embedding(MAX_FEATURES, EMBED_SIZE)(sequence_input)\n",
        "\n",
        "lstm = Bidirectional(LSTM(RNN_CELL_SIZE, return_sequences = True), name=\"bi_lstm_0\")(embedded_sequences)\n",
        "\n",
        "# Getting our LSTM outputs\n",
        "(lstm, forward_h, forward_c, backward_h, backward_c) = Bidirectional(LSTM(RNN_CELL_SIZE, return_sequences=True, return_state=True), name=\"bi_lstm_1\")(lstm)\n",
        "\n",
        "state_h = Concatenate()([forward_h, backward_h])\n",
        "state_c = Concatenate()([forward_c, backward_c])\n",
        "context_vector, attention_weights = Attention(NUM_ATTENTION_HEADS)(lstm, state_h)\n",
        "dense = Dense(512, activation=\"relu\", \n",
        "              kernel_regularizer=regularizers.l2(REGULARIZERS_RATE))(context_vector)\n",
        "dropout = Dropout(DROPOUT_RATE)(dense)\n",
        "dense = Dense(256, activation=\"relu\")(dropout)\n",
        "dropout = Dropout(DROPOUT_RATE)(dense)\n",
        "dense = Dense(128, activation=\"relu\")(dropout)\n",
        "dropout = Dropout(DROPOUT_RATE)(dense)\n",
        "# dense = Dense(128, activation=\"relu\")(dropout)\n",
        "# dropout = Dropout(DROPOUT_RATE)(dense)\n",
        "output = Dense(1, activation=\"sigmoid\")(dropout)\n",
        "  \n",
        "model = keras.Model(inputs=sequence_input, outputs=output)"
      ],
      "execution_count": 11,
      "outputs": []
    },
    {
      "cell_type": "code",
      "metadata": {
        "id": "jeNmthIsNdV4",
        "colab_type": "code",
        "colab": {
          "base_uri": "https://localhost:8080/",
          "height": 0
        },
        "outputId": "ab40dda3-f4b3-491c-a515-87cbbedf1d24"
      },
      "source": [
        "model.summary()"
      ],
      "execution_count": 12,
      "outputs": [
        {
          "output_type": "stream",
          "text": [
            "Model: \"model\"\n",
            "__________________________________________________________________________________________________\n",
            "Layer (type)                    Output Shape         Param #     Connected to                     \n",
            "==================================================================================================\n",
            "input_1 (InputLayer)            [(None, 400)]        0                                            \n",
            "__________________________________________________________________________________________________\n",
            "embedding (Embedding)           (None, 400, 512)     3072000     input_1[0][0]                    \n",
            "__________________________________________________________________________________________________\n",
            "bi_lstm_0 (Bidirectional)       (None, 400, 512)     1574912     embedding[0][0]                  \n",
            "__________________________________________________________________________________________________\n",
            "bi_lstm_1 (Bidirectional)       [(None, 400, 512), ( 1574912     bi_lstm_0[0][0]                  \n",
            "__________________________________________________________________________________________________\n",
            "concatenate (Concatenate)       (None, 512)          0           bi_lstm_1[0][1]                  \n",
            "                                                                 bi_lstm_1[0][3]                  \n",
            "__________________________________________________________________________________________________\n",
            "attention (Attention)           ((None, 512), (None, 8217        bi_lstm_1[0][0]                  \n",
            "__________________________________________________________________________________________________\n",
            "dense_3 (Dense)                 (None, 512)          262656      attention[0][0]                  \n",
            "__________________________________________________________________________________________________\n",
            "dropout (Dropout)               (None, 512)          0           dense_3[0][0]                    \n",
            "__________________________________________________________________________________________________\n",
            "dense_4 (Dense)                 (None, 256)          131328      dropout[0][0]                    \n",
            "__________________________________________________________________________________________________\n",
            "dropout_1 (Dropout)             (None, 256)          0           dense_4[0][0]                    \n",
            "__________________________________________________________________________________________________\n",
            "dense_5 (Dense)                 (None, 128)          32896       dropout_1[0][0]                  \n",
            "__________________________________________________________________________________________________\n",
            "dropout_2 (Dropout)             (None, 128)          0           dense_5[0][0]                    \n",
            "__________________________________________________________________________________________________\n",
            "dense_6 (Dense)                 (None, 1)            129         dropout_2[0][0]                  \n",
            "==================================================================================================\n",
            "Total params: 6,657,050\n",
            "Trainable params: 6,657,050\n",
            "Non-trainable params: 0\n",
            "__________________________________________________________________________________________________\n"
          ],
          "name": "stdout"
        }
      ]
    },
    {
      "cell_type": "code",
      "metadata": {
        "id": "6xwsppdW-fpk",
        "colab_type": "code",
        "colab": {}
      },
      "source": [
        "def f1_score(y_true, y_pred): #taken from old keras source code\n",
        "    true_positives = tf.keras.backend.sum(tf.keras.backend.round(tf.keras.backend.clip(y_true * y_pred, 0, 1)))\n",
        "    possible_positives = tf.keras.backend.sum(tf.keras.backend.round(tf.keras.backend.clip(y_true, 0, 1)))\n",
        "    predicted_positives = tf.keras.backend.sum(tf.keras.backend.round(tf.keras.backend.clip(y_pred, 0, 1)))\n",
        "    precision = true_positives / (predicted_positives + tf.keras.backend.epsilon())\n",
        "    recall = true_positives / (possible_positives + tf.keras.backend.epsilon())\n",
        "    f1_val = 2*(precision*recall)/(precision+recall+tf.keras.backend.epsilon())\n",
        "    return f1_val"
      ],
      "execution_count": 13,
      "outputs": []
    },
    {
      "cell_type": "code",
      "metadata": {
        "id": "ITGsO3EMNiRf",
        "colab_type": "code",
        "colab": {}
      },
      "source": [
        "METRICS = [\n",
        "\tkeras.metrics.BinaryAccuracy(name='accuracy'),\n",
        "  f1_score\n",
        "]\n",
        "\n",
        "my_callbacks = [\n",
        "    tf.keras.callbacks.EarlyStopping(monitor='val_loss', min_delta=0, patience=2, verbose=0, mode='min', baseline=None, restore_best_weights=False)\n",
        "]\n",
        "\n",
        "model.compile(loss='binary_crossentropy',\n",
        "              optimizer='adam',\n",
        "              metrics=METRICS)"
      ],
      "execution_count": 14,
      "outputs": []
    },
    {
      "cell_type": "code",
      "metadata": {
        "id": "s8Er0HR_Nk0X",
        "colab_type": "code",
        "colab": {
          "base_uri": "https://localhost:8080/",
          "height": 187
        },
        "outputId": "5ec76de9-4f9e-4202-dec5-143051cb31c9"
      },
      "source": [
        "history = model.fit(X_train,y_train,\n",
        "\t\t\t\t\tverbose=1,\n",
        "\t\t\t\t\tepochs=EPOCHS,\n",
        "\t\t\t\t\tbatch_size=BATCH_SIZE,\n",
        "\t\t\t\t\tcallbacks=my_callbacks,\n",
        "\t\t\t\t\tvalidation_split=VALIDATION_SPLIT)"
      ],
      "execution_count": null,
      "outputs": [
        {
          "output_type": "stream",
          "text": [
            "Epoch 1/20\n",
            "200/200 [==============================] - 105s 525ms/step - loss: 0.6942 - accuracy: 0.8094 - f1_score: 0.8033 - val_loss: 0.2776 - val_accuracy: 0.8869 - val_f1_score: 0.8925\n",
            "Epoch 2/20\n",
            "200/200 [==============================] - 103s 516ms/step - loss: 0.2427 - accuracy: 0.9103 - f1_score: 0.9100 - val_loss: 0.2584 - val_accuracy: 0.8978 - val_f1_score: 0.8949\n",
            "Epoch 3/20\n",
            "200/200 [==============================] - 103s 515ms/step - loss: 0.1981 - accuracy: 0.9297 - f1_score: 0.9294 - val_loss: 0.2440 - val_accuracy: 0.9049 - val_f1_score: 0.9063\n",
            "Epoch 4/20\n",
            "200/200 [==============================] - 103s 515ms/step - loss: 0.1530 - accuracy: 0.9481 - f1_score: 0.9477 - val_loss: 0.2634 - val_accuracy: 0.8985 - val_f1_score: 0.8972\n",
            "Epoch 5/20\n",
            "200/200 [==============================] - 103s 517ms/step - loss: 0.1237 - accuracy: 0.9596 - f1_score: 0.9593 - val_loss: 0.2910 - val_accuracy: 0.8982 - val_f1_score: 0.8973\n"
          ],
          "name": "stdout"
        }
      ]
    },
    {
      "cell_type": "code",
      "metadata": {
        "id": "DcUotQ4vSHz5",
        "colab_type": "code",
        "colab": {
          "base_uri": "https://localhost:8080/",
          "height": 34
        },
        "outputId": "fc3436a3-47e8-4f59-db01-39b15f0b39a7"
      },
      "source": [
        "model.predict(np.array([X_train[4]]))"
      ],
      "execution_count": null,
      "outputs": [
        {
          "output_type": "execute_result",
          "data": {
            "text/plain": [
              "array([[0.9816851]], dtype=float32)"
            ]
          },
          "metadata": {
            "tags": []
          },
          "execution_count": 16
        }
      ]
    },
    {
      "cell_type": "markdown",
      "metadata": {
        "id": "BaLuMiOEKkCb",
        "colab_type": "text"
      },
      "source": [
        "###### Pretrained embeddings"
      ]
    },
    {
      "cell_type": "code",
      "metadata": {
        "id": "CHOeJN4DKihL",
        "colab_type": "code",
        "colab": {
          "base_uri": "https://localhost:8080/",
          "height": 119
        },
        "outputId": "c87246fb-0c6e-45a3-dd46-04c653e7afb9"
      },
      "source": [
        "!pip install tensorflow-hub\n",
        "import tensorflow_hub as hub\n",
        "\n",
        "print(\"Hub version: \", hub.__version__)"
      ],
      "execution_count": null,
      "outputs": [
        {
          "output_type": "stream",
          "text": [
            "Requirement already satisfied: tensorflow-hub in /usr/local/lib/python3.6/dist-packages (0.8.0)\n",
            "Requirement already satisfied: numpy>=1.12.0 in /usr/local/lib/python3.6/dist-packages (from tensorflow-hub) (1.18.5)\n",
            "Requirement already satisfied: protobuf>=3.8.0 in /usr/local/lib/python3.6/dist-packages (from tensorflow-hub) (3.12.2)\n",
            "Requirement already satisfied: six>=1.12.0 in /usr/local/lib/python3.6/dist-packages (from tensorflow-hub) (1.12.0)\n",
            "Requirement already satisfied: setuptools in /usr/local/lib/python3.6/dist-packages (from protobuf>=3.8.0->tensorflow-hub) (49.1.0)\n",
            "Hub version:  0.8.0\n"
          ],
          "name": "stdout"
        }
      ]
    },
    {
      "cell_type": "code",
      "metadata": {
        "id": "EiszjpSDK1q6",
        "colab_type": "code",
        "colab": {
          "base_uri": "https://localhost:8080/",
          "height": 1000
        },
        "outputId": "fcf80eca-4aba-48ea-c946-c23172e6850a"
      },
      "source": [
        "models = [\"https://tfhub.dev/google/tf2-preview/gnews-swivel-20dim-with-oov/1\",\n",
        "          \"https://tfhub.dev/google/tf2-preview/gnews-swivel-20dim/1\",\n",
        "          \"https://tfhub.dev/google/tf2-preview/nnlm-en-dim50/1\",\n",
        "          \"https://tfhub.dev/google/tf2-preview/nnlm-en-dim128/1\",\n",
        "          \"https://tfhub.dev/google/universal-sentence-encoder/4\",\n",
        "          # \"https://tfhub.dev/google/elmo/3\",\n",
        "          # \"https://tfhub.dev/tensorflow/bert_en_uncased_L-12_H-768_A-12/2\",\n",
        "          ]\n",
        "\n",
        "batch_size = 512\n",
        "METRICS = [\n",
        "\tkeras.metrics.BinaryAccuracy(name='accuracy')\n",
        "]\n",
        "\n",
        "my_callbacks = [\n",
        "    tf.keras.callbacks.EarlyStopping(monitor='val_loss', min_delta=0, patience=2, verbose=0, mode='min', baseline=None, restore_best_weights=False)\n",
        "]\n",
        "\n",
        "for model_name in models:\n",
        "  print(f\"Model name: {model_name}\")\n",
        "  print(f\"Batch size: {batch_size}\")\n",
        "  hub_layer = hub.KerasLayer(model_name, input_shape=[], \n",
        "                            dtype=tf.string, trainable=True)\n",
        "  FF_SIZE = hub_layer(df.Processed_Reviews.iloc[:1]).shape[1]\n",
        "  print(f\"Feedforward units: {FF_SIZE}\")\n",
        "  print(\"-\"*4)\n",
        "  model = tf.keras.Sequential()\n",
        "  model.add(hub_layer)\n",
        "  model.add(tf.keras.layers.Dense(FF_SIZE, activation='relu'))\n",
        "  model.add(tf.keras.layers.Dense(1))\n",
        "\n",
        "  model.compile(loss='binary_crossentropy',\n",
        "                optimizer='adam',\n",
        "                metrics=METRICS)\n",
        "\n",
        "  history = model.fit(df.Processed_Reviews.values, df.sentiment.values,\n",
        "                      verbose=1,\n",
        "                      epochs=EPOCHS,\n",
        "                      batch_size=batch_size,\n",
        "                      callbacks=my_callbacks,\n",
        "                      validation_split=VALIDATION_SPLIT)\n",
        "  \n",
        "  print(\"-\"*4)"
      ],
      "execution_count": null,
      "outputs": [
        {
          "output_type": "stream",
          "text": [
            "Model name: https://tfhub.dev/google/tf2-preview/gnews-swivel-20dim-with-oov/1\n",
            "Batch size: 512\n",
            "Feedforward units: 20\n",
            "----\n",
            "Epoch 1/20\n",
            "79/79 [==============================] - 3s 35ms/step - loss: 7.6354 - accuracy: 0.4992 - val_loss: 7.5760 - val_accuracy: 0.5031\n",
            "Epoch 2/20\n",
            "79/79 [==============================] - 3s 34ms/step - loss: 7.6353 - accuracy: 0.4993 - val_loss: 7.5774 - val_accuracy: 0.5031\n",
            "Epoch 3/20\n",
            "79/79 [==============================] - 3s 34ms/step - loss: 7.6353 - accuracy: 0.4993 - val_loss: 7.5760 - val_accuracy: 0.5031\n",
            "Epoch 4/20\n",
            "79/79 [==============================] - 3s 34ms/step - loss: 7.6353 - accuracy: 0.4993 - val_loss: 7.5774 - val_accuracy: 0.5030\n",
            "Epoch 5/20\n",
            "79/79 [==============================] - 3s 34ms/step - loss: 7.6353 - accuracy: 0.4993 - val_loss: 7.5774 - val_accuracy: 0.5030\n",
            "----\n",
            "Model name: https://tfhub.dev/google/tf2-preview/gnews-swivel-20dim/1\n",
            "Batch size: 512\n",
            "Feedforward units: 20\n",
            "----\n",
            "Epoch 1/20\n",
            "79/79 [==============================] - 3s 38ms/step - loss: 2.3862 - accuracy: 0.5583 - val_loss: 1.6126 - val_accuracy: 0.5838\n",
            "Epoch 2/20\n",
            "79/79 [==============================] - 3s 35ms/step - loss: 1.7902 - accuracy: 0.5701 - val_loss: 1.2380 - val_accuracy: 0.5727\n",
            "Epoch 3/20\n",
            "79/79 [==============================] - 3s 35ms/step - loss: 1.0374 - accuracy: 0.5844 - val_loss: 0.9895 - val_accuracy: 0.5881\n",
            "Epoch 4/20\n",
            "79/79 [==============================] - 3s 35ms/step - loss: 0.8858 - accuracy: 0.6043 - val_loss: 0.9164 - val_accuracy: 0.5974\n",
            "Epoch 5/20\n",
            "79/79 [==============================] - 3s 35ms/step - loss: 0.7979 - accuracy: 0.6252 - val_loss: 0.7784 - val_accuracy: 0.6229\n",
            "Epoch 6/20\n",
            "79/79 [==============================] - 3s 35ms/step - loss: 0.7489 - accuracy: 0.6366 - val_loss: 0.8059 - val_accuracy: 0.6185\n",
            "Epoch 7/20\n",
            "79/79 [==============================] - 3s 34ms/step - loss: 0.8072 - accuracy: 0.6188 - val_loss: 0.6936 - val_accuracy: 0.6570\n",
            "Epoch 8/20\n",
            "79/79 [==============================] - 3s 35ms/step - loss: 0.6570 - accuracy: 0.6720 - val_loss: 0.6592 - val_accuracy: 0.6668\n",
            "Epoch 9/20\n",
            "79/79 [==============================] - 3s 35ms/step - loss: 0.6251 - accuracy: 0.6893 - val_loss: 0.6434 - val_accuracy: 0.6801\n",
            "Epoch 10/20\n",
            "79/79 [==============================] - 3s 35ms/step - loss: 0.5981 - accuracy: 0.7048 - val_loss: 0.6156 - val_accuracy: 0.7017\n",
            "Epoch 11/20\n",
            "79/79 [==============================] - 3s 35ms/step - loss: 0.5773 - accuracy: 0.7188 - val_loss: 0.6012 - val_accuracy: 0.7184\n",
            "Epoch 12/20\n",
            "79/79 [==============================] - 3s 35ms/step - loss: 0.7239 - accuracy: 0.6996 - val_loss: 0.6012 - val_accuracy: 0.6794\n",
            "Epoch 13/20\n",
            "79/79 [==============================] - 3s 35ms/step - loss: 0.5460 - accuracy: 0.7324 - val_loss: 0.5623 - val_accuracy: 0.7249\n",
            "Epoch 14/20\n",
            "79/79 [==============================] - 3s 34ms/step - loss: 0.5233 - accuracy: 0.7509 - val_loss: 0.5502 - val_accuracy: 0.7485\n",
            "Epoch 15/20\n",
            "79/79 [==============================] - 3s 35ms/step - loss: 0.6115 - accuracy: 0.7283 - val_loss: 0.5386 - val_accuracy: 0.7554\n",
            "Epoch 16/20\n",
            "79/79 [==============================] - 3s 35ms/step - loss: 0.5505 - accuracy: 0.7441 - val_loss: 0.5268 - val_accuracy: 0.7556\n",
            "Epoch 17/20\n",
            "79/79 [==============================] - 3s 35ms/step - loss: 0.4834 - accuracy: 0.7736 - val_loss: 0.5083 - val_accuracy: 0.7730\n",
            "Epoch 18/20\n",
            "79/79 [==============================] - 3s 35ms/step - loss: 0.4646 - accuracy: 0.7896 - val_loss: 0.4960 - val_accuracy: 0.7798\n",
            "Epoch 19/20\n",
            "79/79 [==============================] - 3s 35ms/step - loss: 0.4484 - accuracy: 0.7972 - val_loss: 0.4844 - val_accuracy: 0.7867\n",
            "Epoch 20/20\n",
            "79/79 [==============================] - 3s 34ms/step - loss: 0.4348 - accuracy: 0.8055 - val_loss: 0.4763 - val_accuracy: 0.7937\n",
            "----\n",
            "Model name: https://tfhub.dev/google/tf2-preview/nnlm-en-dim50/1\n",
            "Batch size: 512\n",
            "Feedforward units: 50\n",
            "----\n",
            "Epoch 1/20\n",
            "79/79 [==============================] - 4s 46ms/step - loss: 0.5380 - accuracy: 0.7557 - val_loss: 0.4392 - val_accuracy: 0.8417\n",
            "Epoch 2/20\n",
            "79/79 [==============================] - 4s 44ms/step - loss: 0.3992 - accuracy: 0.8543 - val_loss: 0.3768 - val_accuracy: 0.8628\n",
            "Epoch 3/20\n",
            "79/79 [==============================] - 4s 44ms/step - loss: 0.2928 - accuracy: 0.9003 - val_loss: 0.3700 - val_accuracy: 0.8736\n",
            "Epoch 4/20\n",
            "79/79 [==============================] - 3s 42ms/step - loss: 0.2371 - accuracy: 0.9229 - val_loss: 0.3885 - val_accuracy: 0.8800\n",
            "Epoch 5/20\n",
            "79/79 [==============================] - 3s 43ms/step - loss: 0.1961 - accuracy: 0.9369 - val_loss: 0.4865 - val_accuracy: 0.8691\n",
            "----\n",
            "Model name: https://tfhub.dev/google/tf2-preview/nnlm-en-dim128/1\n",
            "Batch size: 512\n",
            "Feedforward units: 128\n",
            "----\n",
            "Epoch 1/20\n",
            "79/79 [==============================] - 5s 66ms/step - loss: 0.5456 - accuracy: 0.7733 - val_loss: 0.3724 - val_accuracy: 0.8531\n",
            "Epoch 2/20\n",
            "79/79 [==============================] - 5s 64ms/step - loss: 0.3706 - accuracy: 0.8773 - val_loss: 0.4982 - val_accuracy: 0.8306\n",
            "Epoch 3/20\n",
            "79/79 [==============================] - 5s 64ms/step - loss: 0.2671 - accuracy: 0.9139 - val_loss: 0.4118 - val_accuracy: 0.8825\n",
            "----\n",
            "Model name: https://tfhub.dev/google/universal-sentence-encoder/4\n",
            "Batch size: 512\n",
            "Feedforward units: 512\n",
            "----\n",
            "Epoch 1/20\n",
            "79/79 [==============================] - 55s 701ms/step - loss: 0.5642 - accuracy: 0.7758 - val_loss: 0.8485 - val_accuracy: 0.7433\n",
            "Epoch 2/20\n",
            "79/79 [==============================] - 55s 694ms/step - loss: 0.2862 - accuracy: 0.9071 - val_loss: 0.3280 - val_accuracy: 0.8922\n",
            "Epoch 3/20\n",
            "79/79 [==============================] - 55s 691ms/step - loss: 2.3998 - accuracy: 0.8207 - val_loss: 7.7587 - val_accuracy: 0.4970\n",
            "Epoch 4/20\n",
            "79/79 [==============================] - 55s 699ms/step - loss: 7.7009 - accuracy: 0.5008 - val_loss: 7.7587 - val_accuracy: 0.4970\n",
            "----\n"
          ],
          "name": "stdout"
        }
      ]
    },
    {
      "cell_type": "markdown",
      "metadata": {
        "id": "Dz8K8Uty79fP",
        "colab_type": "text"
      },
      "source": [
        "###### Fine tunning BERT"
      ]
    },
    {
      "cell_type": "code",
      "metadata": {
        "id": "cvYFT310CTl9",
        "colab_type": "code",
        "colab": {}
      },
      "source": [
        "from transformers import BertTokenizer\n",
        "from transformers import TFBertForSequenceClassification"
      ],
      "execution_count": null,
      "outputs": []
    },
    {
      "cell_type": "code",
      "metadata": {
        "id": "FNeL36IU9Dm1",
        "colab_type": "code",
        "colab": {
          "base_uri": "https://localhost:8080/",
          "height": 66,
          "referenced_widgets": [
            "ba886261cac14ea49e3b68bcfe39e320",
            "96d6e3a99a2846eea2d49d4ceef8cb1e",
            "dbf122b634d744acb001b974461306b7",
            "78ce653b3ae44f4a9f0e6eaa8f446627",
            "b994413a8c0f41598467695c9a28a593",
            "feca0d9bc84441209275b54e40f990d6",
            "bbbf4f40bad74480ba47bb95f1aba339",
            "de8d11edca0143a68361735c6f03ae57"
          ]
        },
        "outputId": "7fe19f63-925b-4a3c-af43-e6e07f7f4e2c"
      },
      "source": [
        "tokenizer = BertTokenizer.from_pretrained('bert-base-uncased', do_lower_case=True)"
      ],
      "execution_count": null,
      "outputs": [
        {
          "output_type": "display_data",
          "data": {
            "application/vnd.jupyter.widget-view+json": {
              "model_id": "ba886261cac14ea49e3b68bcfe39e320",
              "version_minor": 0,
              "version_major": 2
            },
            "text/plain": [
              "HBox(children=(FloatProgress(value=0.0, description='Downloading', max=231508.0, style=ProgressStyle(descripti…"
            ]
          },
          "metadata": {
            "tags": []
          }
        },
        {
          "output_type": "stream",
          "text": [
            "\n"
          ],
          "name": "stdout"
        }
      ]
    },
    {
      "cell_type": "code",
      "metadata": {
        "id": "1GhJzJNH8FMj",
        "colab_type": "code",
        "colab": {}
      },
      "source": [
        "max_length = 512\n",
        "batch_size = 6"
      ],
      "execution_count": null,
      "outputs": []
    },
    {
      "cell_type": "code",
      "metadata": {
        "id": "uzGvXpvH8xMS",
        "colab_type": "code",
        "colab": {}
      },
      "source": [
        "def convert_example_to_feature(review):\n",
        "  \n",
        "  # combine step for tokenization, WordPiece vector mapping, adding special tokens as well as truncating reviews longer than the max length\n",
        "  \n",
        "  return tokenizer.encode_plus(review, \n",
        "                add_special_tokens = True, # add [CLS], [SEP]\n",
        "                max_length = max_length, # max length of the text that can go to BERT\n",
        "                pad_to_max_length = True, # add [PAD] tokens\n",
        "                return_attention_mask = True, # add attention mask to not focus on pad tokens\n",
        "                truncation=True\n",
        "              )\n",
        "# map to the expected input to TFBertForSequenceClassification, see here \n",
        "def map_example_to_dict(input_ids, attention_masks, token_type_ids, label):\n",
        "  return {\n",
        "      \"input_ids\": input_ids,\n",
        "      \"token_type_ids\": token_type_ids,\n",
        "      \"attention_mask\": attention_masks,\n",
        "  }, label\n",
        "\n",
        "def encode_examples(ds, limit=-1):\n",
        "\n",
        "  # prepare list, so that we can build up final TensorFlow dataset from slices.\n",
        "  input_ids_list = []\n",
        "  token_type_ids_list = []\n",
        "  attention_mask_list = []\n",
        "  label_list = []\n",
        "\n",
        "  if (limit > 0):\n",
        "      ds = ds.take(limit)\n",
        "    \n",
        "  for review, label in tqdm(tfds.as_numpy(ds)):\n",
        "\n",
        "    bert_input = convert_example_to_feature(review.decode())\n",
        "  \n",
        "    input_ids_list.append(bert_input['input_ids'])\n",
        "    token_type_ids_list.append(bert_input['token_type_ids'])\n",
        "    attention_mask_list.append(bert_input['attention_mask'])\n",
        "    label_list.append([label])\n",
        "\n",
        "  return tf.data.Dataset.from_tensor_slices((input_ids_list, attention_mask_list, token_type_ids_list, label_list)).map(map_example_to_dict)"
      ],
      "execution_count": null,
      "outputs": []
    },
    {
      "cell_type": "code",
      "metadata": {
        "id": "43PSCuxBy5wh",
        "colab_type": "code",
        "colab": {
          "base_uri": "https://localhost:8080/",
          "height": 51
        },
        "outputId": "f4b3dd61-493a-4a27-fa9d-c0bbc697e0c6"
      },
      "source": [
        "# train dataset\n",
        "ds_train_encoded = encode_examples(ds_train).shuffle(10000).batch(batch_size)\n",
        "\n",
        "# test dataset\n",
        "ds_test_encoded = encode_examples(ds_test).batch(batch_size)\n",
        "\n",
        "# recommended learning rate for Adam 5e-5, 3e-5, 2e-5\n",
        "learning_rate = 2e-5\n",
        "\n",
        "# we will do just 1 epoch for illustration, though multiple epochs might be better as long as we will not overfit the model\n",
        "number_of_epochs = 10"
      ],
      "execution_count": null,
      "outputs": [
        {
          "output_type": "stream",
          "text": [
            "25000it [01:35, 262.96it/s]\n",
            "25000it [01:33, 266.13it/s]\n"
          ],
          "name": "stderr"
        }
      ]
    },
    {
      "cell_type": "code",
      "metadata": {
        "id": "YyZ9k43Py8Cb",
        "colab_type": "code",
        "colab": {
          "base_uri": "https://localhost:8080/",
          "height": 122
        },
        "outputId": "02690395-a792-400f-8c11-bc9776ab04e1"
      },
      "source": [
        "# model initialization\n",
        "model = TFBertForSequenceClassification.from_pretrained('bert-base-uncased')\n",
        "\n",
        "# choosing Adam optimizer\n",
        "optimizer = tf.keras.optimizers.Adam(learning_rate=learning_rate, epsilon=1e-08)\n",
        "\n",
        "# we do not have one-hot vectors, we can use sparce categorical cross entropy and accuracy\n",
        "loss = tf.keras.losses.SparseCategoricalCrossentropy(from_logits=True)\n",
        "metric = tf.keras.metrics.SparseCategoricalAccuracy('accuracy')\n",
        "\n",
        "my_callbacks = [\n",
        "                tf.keras.callbacks.EarlyStopping(monitor='val_loss', min_delta=0, patience=2, verbose=0, mode='min', baseline=None, restore_best_weights=True)\n",
        "]\n",
        "model.compile(optimizer=optimizer, loss=loss, metrics=[metric])"
      ],
      "execution_count": null,
      "outputs": [
        {
          "output_type": "stream",
          "text": [
            "WARNING:transformers.modeling_tf_utils:Some weights of the model checkpoint at bert-base-uncased were not used when initializing TFBertForSequenceClassification: ['mlm___cls', 'nsp___cls']\n",
            "- This IS expected if you are initializing TFBertForSequenceClassification from the checkpoint of a model trained on another task or with another architecture (e.g. initializing a BertForSequenceClassification model from a BertForPretraining model).\n",
            "- This IS NOT expected if you are initializing TFBertForSequenceClassification from the checkpoint of a model that you expect to be exactly identical (initializing a BertForSequenceClassification model from a BertForSequenceClassification model).\n",
            "WARNING:transformers.modeling_tf_utils:Some weights of TFBertForSequenceClassification were not initialized from the model checkpoint at bert-base-uncased and are newly initialized: ['classifier', 'dropout_37']\n",
            "You should probably TRAIN this model on a down-stream task to be able to use it for predictions and inference.\n"
          ],
          "name": "stderr"
        }
      ]
    },
    {
      "cell_type": "code",
      "metadata": {
        "id": "KA8nVwCnE57E",
        "colab_type": "code",
        "colab": {
          "base_uri": "https://localhost:8080/",
          "height": 255
        },
        "outputId": "0fc932e3-d9ee-4781-b73f-900b53b5b3a1"
      },
      "source": [
        "model.summary()"
      ],
      "execution_count": null,
      "outputs": [
        {
          "output_type": "stream",
          "text": [
            "Model: \"tf_bert_for_sequence_classification\"\n",
            "_________________________________________________________________\n",
            "Layer (type)                 Output Shape              Param #   \n",
            "=================================================================\n",
            "bert (TFBertMainLayer)       multiple                  109482240 \n",
            "_________________________________________________________________\n",
            "dropout_37 (Dropout)         multiple                  0         \n",
            "_________________________________________________________________\n",
            "classifier (Dense)           multiple                  1538      \n",
            "=================================================================\n",
            "Total params: 109,483,778\n",
            "Trainable params: 109,483,778\n",
            "Non-trainable params: 0\n",
            "_________________________________________________________________\n"
          ],
          "name": "stdout"
        }
      ]
    },
    {
      "cell_type": "code",
      "metadata": {
        "id": "cqEKLxgTzt9K",
        "colab_type": "code",
        "colab": {
          "base_uri": "https://localhost:8080/",
          "height": 153
        },
        "outputId": "2af2c433-57c4-4431-a18a-3c8528fde38c"
      },
      "source": [
        "bert_history = model.fit(ds_train_encoded, \n",
        "                         epochs=number_of_epochs, \n",
        "                         validation_data=ds_test_encoded, \n",
        "                         callbacks=my_callbacks)"
      ],
      "execution_count": null,
      "outputs": [
        {
          "output_type": "stream",
          "text": [
            "Epoch 1/10\n",
            "4167/4167 [==============================] - 2454s 589ms/step - loss: 0.2401 - accuracy: 0.9032 - val_loss: 0.1958 - val_accuracy: 0.9242\n",
            "Epoch 2/10\n",
            "4167/4167 [==============================] - 2456s 589ms/step - loss: 0.1249 - accuracy: 0.9576 - val_loss: 0.1725 - val_accuracy: 0.9346\n",
            "Epoch 3/10\n",
            "4167/4167 [==============================] - 2451s 588ms/step - loss: 0.0696 - accuracy: 0.9772 - val_loss: 0.2456 - val_accuracy: 0.9198\n",
            "Epoch 4/10\n",
            "4167/4167 [==============================] - 2453s 589ms/step - loss: 0.0451 - accuracy: 0.9861 - val_loss: 0.2513 - val_accuracy: 0.9263\n"
          ],
          "name": "stdout"
        }
      ]
    },
    {
      "cell_type": "code",
      "metadata": {
        "id": "91rrsNShzuTq",
        "colab_type": "code",
        "colab": {}
      },
      "source": [
        "model.save_pretrained('/content/drive/My Drive/projects/IMDB sentiment analysis Bi-LSTM + Attention/bert_model')"
      ],
      "execution_count": null,
      "outputs": []
    },
    {
      "cell_type": "code",
      "metadata": {
        "id": "Oc5g6L6UeR5l",
        "colab_type": "code",
        "colab": {
          "base_uri": "https://localhost:8080/",
          "height": 68
        },
        "outputId": "36c73bc0-27e0-4cb5-bb33-4cee87bfcfcd"
      },
      "source": [
        "tokenizer.save_pretrained('/content/drive/My Drive/projects/IMDB sentiment analysis Bi-LSTM + Attention/bert_model')"
      ],
      "execution_count": null,
      "outputs": [
        {
          "output_type": "execute_result",
          "data": {
            "text/plain": [
              "('/content/drive/My Drive/projects/IMDB sentiment analysis Bi-LSTM + Attention/bert_model/vocab.txt',\n",
              " '/content/drive/My Drive/projects/IMDB sentiment analysis Bi-LSTM + Attention/bert_model/special_tokens_map.json',\n",
              " '/content/drive/My Drive/projects/IMDB sentiment analysis Bi-LSTM + Attention/bert_model/added_tokens.json')"
            ]
          },
          "metadata": {
            "tags": []
          },
          "execution_count": 14
        }
      ]
    },
    {
      "cell_type": "markdown",
      "metadata": {
        "id": "2VhIlt72ALjv",
        "colab_type": "text"
      },
      "source": [
        "Load BERT model and evaluate"
      ]
    },
    {
      "cell_type": "code",
      "metadata": {
        "id": "eILOtSR00YtG",
        "colab_type": "code",
        "colab": {
          "base_uri": "https://localhost:8080/",
          "height": 105
        },
        "outputId": "65c45cf7-413c-4710-f331-8e65e351713c"
      },
      "source": [
        "new_model = TFBertForSequenceClassification.from_pretrained('/content/drive/My Drive/projects/IMDB sentiment analysis Bi-LSTM + Attention/bert_model')\n",
        "new_tokenizer = BertTokenizer.from_pretrained('/content/drive/My Drive/projects/IMDB sentiment analysis Bi-LSTM + Attention/bert_model')"
      ],
      "execution_count": null,
      "outputs": [
        {
          "output_type": "stream",
          "text": [
            "WARNING:transformers.modeling_tf_utils:All model checkpoint weights were used when initializing TFBertForSequenceClassification.\n",
            "\n",
            "WARNING:transformers.modeling_tf_utils:All the weights of TFBertForSequenceClassification were initialized from the model checkpoint at /content/drive/My Drive/projects/IMDB sentiment analysis Bi-LSTM + Attention/bert_model.\n",
            "If your task is similar to the task the model of the ckeckpoint was trained on, you can already use TFBertForSequenceClassification for predictions without further training.\n"
          ],
          "name": "stderr"
        }
      ]
    },
    {
      "cell_type": "code",
      "metadata": {
        "id": "1M7yxFewet-T",
        "colab_type": "code",
        "colab": {
          "base_uri": "https://localhost:8080/",
          "height": 255
        },
        "outputId": "e67af8d1-a80d-4bc1-84da-49f78b400a61"
      },
      "source": [
        "new_model.summary()"
      ],
      "execution_count": null,
      "outputs": [
        {
          "output_type": "stream",
          "text": [
            "Model: \"tf_bert_for_sequence_classification\"\n",
            "_________________________________________________________________\n",
            "Layer (type)                 Output Shape              Param #   \n",
            "=================================================================\n",
            "bert (TFBertMainLayer)       multiple                  109482240 \n",
            "_________________________________________________________________\n",
            "dropout_37 (Dropout)         multiple                  0         \n",
            "_________________________________________________________________\n",
            "classifier (Dense)           multiple                  1538      \n",
            "=================================================================\n",
            "Total params: 109,483,778\n",
            "Trainable params: 109,483,778\n",
            "Non-trainable params: 0\n",
            "_________________________________________________________________\n"
          ],
          "name": "stdout"
        }
      ]
    },
    {
      "cell_type": "code",
      "metadata": {
        "id": "sj720qRSgBe0",
        "colab_type": "code",
        "colab": {
          "base_uri": "https://localhost:8080/",
          "height": 51
        },
        "outputId": "b8d6848e-0246-4e4a-a3f4-8e190d4856ea"
      },
      "source": [
        "optimizer = tf.keras.optimizers.Adam(learning_rate=learning_rate, epsilon=1e-08)\n",
        "\n",
        "# we do not have one-hot vectors, we can use sparce categorical cross entropy and accuracy\n",
        "loss = tf.keras.losses.SparseCategoricalCrossentropy(from_logits=True)\n",
        "metric = tf.keras.metrics.SparseCategoricalAccuracy('accuracy')\n",
        "new_model.compile(optimizer=optimizer, loss=loss, metrics=[metric])\n",
        "\n",
        "new_model.evaluate(ds_test_encoded)"
      ],
      "execution_count": null,
      "outputs": [
        {
          "output_type": "stream",
          "text": [
            "4167/4167 [==============================] - 636s 153ms/step - loss: 0.1725 - accuracy: 0.9346\n"
          ],
          "name": "stdout"
        },
        {
          "output_type": "execute_result",
          "data": {
            "text/plain": [
              "[0.17245008051395416, 0.9346399903297424]"
            ]
          },
          "metadata": {
            "tags": []
          },
          "execution_count": 12
        }
      ]
    },
    {
      "cell_type": "markdown",
      "metadata": {
        "id": "160jnFr2-xpd",
        "colab_type": "text"
      },
      "source": [
        "###### Fine tunning XLNet\n"
      ]
    },
    {
      "cell_type": "code",
      "metadata": {
        "id": "pluBCtDoB6ZC",
        "colab_type": "code",
        "colab": {
          "base_uri": "https://localhost:8080/",
          "height": 0,
          "referenced_widgets": [
            "85df778936db41d8b5d6774b87a3572a",
            "62369c890b3341258ee6e037f4abed42",
            "25f945066d334d199426f213380575f3",
            "b7b8eba3576647c8ac4ed19c939a5cb7",
            "24dc81a038ca441aa1df58559390f99b",
            "834319e8c36648f68f8a8d82b185bbef",
            "a0bdec39fdbd40278b439c0f8c2f7475",
            "389f6fa81e314c43bcdb3d5ddf85e43c"
          ]
        },
        "outputId": "096db369-c246-4721-bbdd-ab6059e3d229"
      },
      "source": [
        "from transformers import TFXLNetModel, TFXLNetForSequenceClassification, XLNetTokenizer\n",
        "tokenizer = XLNetTokenizer.from_pretrained('xlnet-base-cased', do_lower_case=True)"
      ],
      "execution_count": 5,
      "outputs": [
        {
          "output_type": "display_data",
          "data": {
            "application/vnd.jupyter.widget-view+json": {
              "model_id": "85df778936db41d8b5d6774b87a3572a",
              "version_minor": 0,
              "version_major": 2
            },
            "text/plain": [
              "HBox(children=(FloatProgress(value=0.0, description='Downloading', max=798011.0, style=ProgressStyle(descripti…"
            ]
          },
          "metadata": {
            "tags": []
          }
        },
        {
          "output_type": "stream",
          "text": [
            "\n"
          ],
          "name": "stdout"
        }
      ]
    },
    {
      "cell_type": "code",
      "metadata": {
        "id": "tBQIce_8uPbI",
        "colab_type": "code",
        "colab": {}
      },
      "source": [
        "max_length = 512\n",
        "batch_size = 8"
      ],
      "execution_count": 6,
      "outputs": []
    },
    {
      "cell_type": "code",
      "metadata": {
        "id": "bHlYZxAVz5VP",
        "colab_type": "code",
        "colab": {}
      },
      "source": [
        "def convert_example_to_feature(review):\n",
        "  \n",
        "  # combine step for tokenization, WordPiece vector mapping, adding special tokens as well as truncating reviews longer than the max length\n",
        "  \n",
        "  return tokenizer.encode_plus(review, \n",
        "                # add_special_tokens = True, # add [CLS], [SEP]\n",
        "                max_length = max_length, # max length of the text that can go to BERT\n",
        "                pad_to_max_length = True, # add [PAD] tokens\n",
        "                # return_attention_mask = True, # add attention mask to not focus on pad tokens\n",
        "                truncation=True\n",
        "              )\n",
        "  \n",
        "  # map to the expected input to TFBertForSequenceClassification, see here \n",
        "def map_example_to_dict(input_ids, attention_masks, label):\n",
        "  return {\n",
        "      \"input_ids\": input_ids,\n",
        "      \"attention_mask\": attention_masks,\n",
        "  }, label\n",
        "\n",
        "def encode_examples(ds, limit=-1):\n",
        "\n",
        "  # prepare list, so that we can build up final TensorFlow dataset from slices.\n",
        "  input_ids_list = []\n",
        "  attention_mask_list = []\n",
        "  label_list = []\n",
        "\n",
        "  if (limit > 0):\n",
        "      ds = ds.take(limit)\n",
        "    \n",
        "  for review, label in tqdm(tfds.as_numpy(ds)):\n",
        "\n",
        "    bert_input = convert_example_to_feature(review.decode())\n",
        "  \n",
        "    input_ids_list.append(bert_input['input_ids'])\n",
        "    attention_mask_list.append(bert_input['attention_mask'])\n",
        "    label_list.append([label])\n",
        "\n",
        "  return tf.data.Dataset.from_tensor_slices((input_ids_list, attention_mask_list, label_list)).map(map_example_to_dict)"
      ],
      "execution_count": 7,
      "outputs": []
    },
    {
      "cell_type": "code",
      "metadata": {
        "id": "b9vJFIvbuUYG",
        "colab_type": "code",
        "colab": {
          "base_uri": "https://localhost:8080/",
          "height": 0
        },
        "outputId": "ac7203bc-5b6d-4950-d7f0-0dad0a88ddef"
      },
      "source": [
        "# train dataset\n",
        "ds_train_encoded = encode_examples(ds_train).shuffle(10000).batch(batch_size)\n",
        "\n",
        "# test dataset\n",
        "ds_test_encoded = encode_examples(ds_test).batch(batch_size)\n",
        "\n",
        "# recommended learning rate for Adam 5e-5, 3e-5, 2e-5\n",
        "learning_rate = 2e-5\n",
        "\n",
        "# we will do just 1 epoch for illustration, though multiple epochs might be better as long as we will not overfit the model\n",
        "number_of_epochs = 4"
      ],
      "execution_count": 8,
      "outputs": [
        {
          "output_type": "stream",
          "text": [
            "25000it [00:50, 497.25it/s]\n",
            "25000it [00:49, 500.17it/s]\n"
          ],
          "name": "stderr"
        }
      ]
    },
    {
      "cell_type": "code",
      "metadata": {
        "id": "HY1IzF9luVLI",
        "colab_type": "code",
        "colab": {
          "base_uri": "https://localhost:8080/",
          "height": 0
        },
        "outputId": "9aa99da1-0927-4b17-c92a-cae97a9ad5db"
      },
      "source": [
        "# model initialization\n",
        "model = TFXLNetForSequenceClassification.from_pretrained('xlnet-base-cased')\n",
        "\n",
        "# choosing Adam optimizer\n",
        "optimizer = tf.keras.optimizers.Adam(learning_rate=learning_rate, epsilon=1e-08)\n",
        "\n",
        "# we do not have one-hot vectors, we can use sparce categorical cross entropy and accuracy\n",
        "loss = tf.keras.losses.SparseCategoricalCrossentropy(from_logits=True)\n",
        "metric = tf.keras.metrics.SparseCategoricalAccuracy('accuracy')\n",
        "my_callbacks = [\n",
        "                tf.keras.callbacks.EarlyStopping(monitor='val_loss', min_delta=0, patience=1, verbose=0, mode='min', baseline=None, restore_best_weights=True)\n",
        "]\n",
        "\n",
        "model.compile(optimizer=optimizer, loss=loss, metrics=[metric])"
      ],
      "execution_count": 9,
      "outputs": [
        {
          "output_type": "stream",
          "text": [
            "WARNING:transformers.modeling_tf_utils:Some weights of the model checkpoint at xlnet-base-cased were not used when initializing TFXLNetForSequenceClassification: ['lm_loss']\n",
            "- This IS expected if you are initializing TFXLNetForSequenceClassification from the checkpoint of a model trained on another task or with another architecture (e.g. initializing a BertForSequenceClassification model from a BertForPretraining model).\n",
            "- This IS NOT expected if you are initializing TFXLNetForSequenceClassification from the checkpoint of a model that you expect to be exactly identical (initializing a BertForSequenceClassification model from a BertForSequenceClassification model).\n",
            "WARNING:transformers.modeling_tf_utils:Some weights of TFXLNetForSequenceClassification were not initialized from the model checkpoint at xlnet-base-cased and are newly initialized: ['sequence_summary', 'logits_proj']\n",
            "You should probably TRAIN this model on a down-stream task to be able to use it for predictions and inference.\n"
          ],
          "name": "stderr"
        }
      ]
    },
    {
      "cell_type": "code",
      "metadata": {
        "id": "OC6ayoV-2BEa",
        "colab_type": "code",
        "colab": {
          "base_uri": "https://localhost:8080/",
          "height": 0
        },
        "outputId": "228be7bc-6a64-4f05-d817-7b8295b85dff"
      },
      "source": [
        "model.summary()"
      ],
      "execution_count": 10,
      "outputs": [
        {
          "output_type": "stream",
          "text": [
            "Model: \"tfxl_net_for_sequence_classification\"\n",
            "_________________________________________________________________\n",
            "Layer (type)                 Output Shape              Param #   \n",
            "=================================================================\n",
            "transformer (TFXLNetMainLaye multiple                  116718336 \n",
            "_________________________________________________________________\n",
            "sequence_summary (TFSequence multiple                  590592    \n",
            "_________________________________________________________________\n",
            "logits_proj (Dense)          multiple                  1538      \n",
            "=================================================================\n",
            "Total params: 117,310,466\n",
            "Trainable params: 117,310,466\n",
            "Non-trainable params: 0\n",
            "_________________________________________________________________\n"
          ],
          "name": "stdout"
        }
      ]
    },
    {
      "cell_type": "code",
      "metadata": {
        "id": "rvB94VnmC1hW",
        "colab_type": "code",
        "colab": {
          "base_uri": "https://localhost:8080/",
          "height": 0
        },
        "outputId": "5e915095-b5db-491b-d123-4de5a5f13df4"
      },
      "source": [
        "xlnet_history = model.fit(ds_train_encoded, \n",
        "                          epochs=number_of_epochs, \n",
        "                          validation_data=ds_test_encoded,\n",
        "                          callbacks=my_callbacks)"
      ],
      "execution_count": 11,
      "outputs": [
        {
          "output_type": "stream",
          "text": [
            "Epoch 1/4\n",
            "3125/3125 [==============================] - 4514s 1s/step - loss: 0.2047 - accuracy: 0.9214 - val_loss: 0.1628 - val_accuracy: 0.9438\n",
            "Epoch 2/4\n",
            "3125/3125 [==============================] - 4524s 1s/step - loss: 0.1236 - accuracy: 0.9559 - val_loss: 0.1590 - val_accuracy: 0.9439\n",
            "Epoch 3/4\n",
            "3125/3125 [==============================] - 4527s 1s/step - loss: 0.0769 - accuracy: 0.9747 - val_loss: 0.2000 - val_accuracy: 0.9409\n"
          ],
          "name": "stdout"
        }
      ]
    },
    {
      "cell_type": "code",
      "metadata": {
        "id": "Z4JSxJ0lChhK",
        "colab_type": "code",
        "colab": {
          "base_uri": "https://localhost:8080/",
          "height": 0
        },
        "outputId": "a4694f16-8522-4a22-bb0f-49bce8ab24f9"
      },
      "source": [
        "model.save_pretrained('/content/drive/My Drive/projects/IMDB sentiment analysis Bi-LSTM + Attention/xlnet_model')\n",
        "tokenizer.save_pretrained('/content/drive/My Drive/projects/IMDB sentiment analysis Bi-LSTM + Attention/xlnet_model')"
      ],
      "execution_count": 12,
      "outputs": [
        {
          "output_type": "execute_result",
          "data": {
            "text/plain": [
              "('/content/drive/My Drive/projects/IMDB sentiment analysis Bi-LSTM + Attention/xlnet_model/spiece.model',\n",
              " '/content/drive/My Drive/projects/IMDB sentiment analysis Bi-LSTM + Attention/xlnet_model/special_tokens_map.json',\n",
              " '/content/drive/My Drive/projects/IMDB sentiment analysis Bi-LSTM + Attention/xlnet_model/added_tokens.json')"
            ]
          },
          "metadata": {
            "tags": []
          },
          "execution_count": 12
        }
      ]
    },
    {
      "cell_type": "markdown",
      "metadata": {
        "id": "sR-7IUq5L0VU",
        "colab_type": "text"
      },
      "source": [
        "Load XLNet model and evaluate"
      ]
    },
    {
      "cell_type": "code",
      "metadata": {
        "id": "DvtYnPYcCiCd",
        "colab_type": "code",
        "colab": {
          "base_uri": "https://localhost:8080/",
          "height": 0
        },
        "outputId": "92b9649a-d59a-447f-e3af-acda5eaedea0"
      },
      "source": [
        "new_model = TFXLNetForSequenceClassification.from_pretrained('/content/drive/My Drive/projects/IMDB sentiment analysis Bi-LSTM + Attention/xlnet_model')\n",
        "new_tokenizer = XLNetTokenizer.from_pretrained('/content/drive/My Drive/projects/IMDB sentiment analysis Bi-LSTM + Attention/xlnet_model')"
      ],
      "execution_count": 9,
      "outputs": [
        {
          "output_type": "stream",
          "text": [
            "WARNING:transformers.modeling_tf_utils:All model checkpoint weights were used when initializing TFXLNetForSequenceClassification.\n",
            "\n",
            "WARNING:transformers.modeling_tf_utils:All the weights of TFXLNetForSequenceClassification were initialized from the model checkpoint at /content/drive/My Drive/projects/IMDB sentiment analysis Bi-LSTM + Attention/xlnet_model.\n",
            "If your task is similar to the task the model of the ckeckpoint was trained on, you can already use TFXLNetForSequenceClassification for predictions without further training.\n"
          ],
          "name": "stderr"
        }
      ]
    },
    {
      "cell_type": "code",
      "metadata": {
        "id": "YgNvhPoVCl3A",
        "colab_type": "code",
        "colab": {
          "base_uri": "https://localhost:8080/",
          "height": 0
        },
        "outputId": "34769195-3cc8-45f3-cb6f-6893846f9ca8"
      },
      "source": [
        "new_model.summary()\n",
        "\n",
        "optimizer = tf.keras.optimizers.Adam(learning_rate=learning_rate, epsilon=1e-08)\n",
        "\n",
        "# we do not have one-hot vectors, we can use sparce categorical cross entropy and accuracy\n",
        "loss = tf.keras.losses.SparseCategoricalCrossentropy(from_logits=True)\n",
        "metric = tf.keras.metrics.SparseCategoricalAccuracy('accuracy')\n",
        "new_model.compile(optimizer=optimizer, loss=loss, metrics=[metric])\n",
        "\n",
        "new_model.evaluate(ds_test_encoded)"
      ],
      "execution_count": 10,
      "outputs": [
        {
          "output_type": "stream",
          "text": [
            "Model: \"tfxl_net_for_sequence_classification\"\n",
            "_________________________________________________________________\n",
            "Layer (type)                 Output Shape              Param #   \n",
            "=================================================================\n",
            "transformer (TFXLNetMainLaye multiple                  116718336 \n",
            "_________________________________________________________________\n",
            "sequence_summary (TFSequence multiple                  590592    \n",
            "_________________________________________________________________\n",
            "logits_proj (Dense)          multiple                  1538      \n",
            "=================================================================\n",
            "Total params: 117,310,466\n",
            "Trainable params: 117,310,466\n",
            "Non-trainable params: 0\n",
            "_________________________________________________________________\n",
            "3125/3125 [==============================] - 973s 311ms/step - loss: 0.1590 - accuracy: 0.9439\n"
          ],
          "name": "stdout"
        },
        {
          "output_type": "execute_result",
          "data": {
            "text/plain": [
              "[0.15900878608226776, 0.9439200162887573]"
            ]
          },
          "metadata": {
            "tags": []
          },
          "execution_count": 10
        }
      ]
    }
  ]
}